{
 "cells": [
  {
   "cell_type": "code",
   "execution_count": 5,
   "id": "5989f8fa-30bd-4d35-8894-9ee2f8e29f2a",
   "metadata": {},
   "outputs": [
    {
     "name": "stdout",
     "output_type": "stream",
     "text": [
      "Requirement already satisfied: nltk in /opt/anaconda3/lib/python3.11/site-packages (3.6.7)\n",
      "Requirement already satisfied: click in /opt/anaconda3/lib/python3.11/site-packages (from nltk) (8.1.7)\n",
      "Requirement already satisfied: joblib in /opt/anaconda3/lib/python3.11/site-packages (from nltk) (1.2.0)\n",
      "Requirement already satisfied: regex>=2021.8.3 in /opt/anaconda3/lib/python3.11/site-packages (from nltk) (2023.10.3)\n",
      "Requirement already satisfied: tqdm in /opt/anaconda3/lib/python3.11/site-packages (from nltk) (4.65.0)\n"
     ]
    }
   ],
   "source": [
    "!pip install nltk\n",
    "import pandas as pd \n",
    "import gensim\n",
    "from gensim import corpora,models \n",
    "import nltk\n",
    "from nltk.corpus import stopwords"
   ]
  },
  {
   "cell_type": "code",
   "execution_count": 6,
   "id": "1f3ad0f9-7ac0-48cc-a509-6195c0c72ac6",
   "metadata": {},
   "outputs": [
    {
     "data": {
      "text/html": [
       "<div>\n",
       "<style scoped>\n",
       "    .dataframe tbody tr th:only-of-type {\n",
       "        vertical-align: middle;\n",
       "    }\n",
       "\n",
       "    .dataframe tbody tr th {\n",
       "        vertical-align: top;\n",
       "    }\n",
       "\n",
       "    .dataframe thead th {\n",
       "        text-align: right;\n",
       "    }\n",
       "</style>\n",
       "<table border=\"1\" class=\"dataframe\">\n",
       "  <thead>\n",
       "    <tr style=\"text-align: right;\">\n",
       "      <th></th>\n",
       "      <th>Context</th>\n",
       "      <th>Response</th>\n",
       "    </tr>\n",
       "  </thead>\n",
       "  <tbody>\n",
       "    <tr>\n",
       "      <th>0</th>\n",
       "      <td>I'm going through some things with my feelings...</td>\n",
       "      <td>If everyone thinks you're worthless, then mayb...</td>\n",
       "    </tr>\n",
       "    <tr>\n",
       "      <th>1</th>\n",
       "      <td>I'm going through some things with my feelings...</td>\n",
       "      <td>Hello, and thank you for your question and see...</td>\n",
       "    </tr>\n",
       "    <tr>\n",
       "      <th>2</th>\n",
       "      <td>I'm going through some things with my feelings...</td>\n",
       "      <td>First thing I'd suggest is getting the sleep y...</td>\n",
       "    </tr>\n",
       "    <tr>\n",
       "      <th>3</th>\n",
       "      <td>I'm going through some things with my feelings...</td>\n",
       "      <td>Therapy is essential for those that are feelin...</td>\n",
       "    </tr>\n",
       "    <tr>\n",
       "      <th>4</th>\n",
       "      <td>I'm going through some things with my feelings...</td>\n",
       "      <td>I first want to let you know that you are not ...</td>\n",
       "    </tr>\n",
       "    <tr>\n",
       "      <th>...</th>\n",
       "      <td>...</td>\n",
       "      <td>...</td>\n",
       "    </tr>\n",
       "    <tr>\n",
       "      <th>3507</th>\n",
       "      <td>My grandson's step-mother sends him to school ...</td>\n",
       "      <td>Absolutely not! It is never in a child's best ...</td>\n",
       "    </tr>\n",
       "    <tr>\n",
       "      <th>3508</th>\n",
       "      <td>My boyfriend is in recovery from drug addictio...</td>\n",
       "      <td>I'm sorry you have tension between you and you...</td>\n",
       "    </tr>\n",
       "    <tr>\n",
       "      <th>3509</th>\n",
       "      <td>The birth mother attempted suicide several tim...</td>\n",
       "      <td>The true answer is, \"no one can really say wit...</td>\n",
       "    </tr>\n",
       "    <tr>\n",
       "      <th>3510</th>\n",
       "      <td>I think adult life is making him depressed and...</td>\n",
       "      <td>How do you help yourself to believe you requir...</td>\n",
       "    </tr>\n",
       "    <tr>\n",
       "      <th>3511</th>\n",
       "      <td>I just took a job that requires me to travel f...</td>\n",
       "      <td>hmm this is a tough one!</td>\n",
       "    </tr>\n",
       "  </tbody>\n",
       "</table>\n",
       "<p>3512 rows × 2 columns</p>\n",
       "</div>"
      ],
      "text/plain": [
       "                                                Context  \\\n",
       "0     I'm going through some things with my feelings...   \n",
       "1     I'm going through some things with my feelings...   \n",
       "2     I'm going through some things with my feelings...   \n",
       "3     I'm going through some things with my feelings...   \n",
       "4     I'm going through some things with my feelings...   \n",
       "...                                                 ...   \n",
       "3507  My grandson's step-mother sends him to school ...   \n",
       "3508  My boyfriend is in recovery from drug addictio...   \n",
       "3509  The birth mother attempted suicide several tim...   \n",
       "3510  I think adult life is making him depressed and...   \n",
       "3511  I just took a job that requires me to travel f...   \n",
       "\n",
       "                                               Response  \n",
       "0     If everyone thinks you're worthless, then mayb...  \n",
       "1     Hello, and thank you for your question and see...  \n",
       "2     First thing I'd suggest is getting the sleep y...  \n",
       "3     Therapy is essential for those that are feelin...  \n",
       "4     I first want to let you know that you are not ...  \n",
       "...                                                 ...  \n",
       "3507  Absolutely not! It is never in a child's best ...  \n",
       "3508  I'm sorry you have tension between you and you...  \n",
       "3509  The true answer is, \"no one can really say wit...  \n",
       "3510  How do you help yourself to believe you requir...  \n",
       "3511                           hmm this is a tough one!  \n",
       "\n",
       "[3512 rows x 2 columns]"
      ]
     },
     "execution_count": 6,
     "metadata": {},
     "output_type": "execute_result"
    }
   ],
   "source": [
    "# Read data\n",
    "# use read_csv to read csv file, not read_table\n",
    "df = pd.read_csv('train.csv')\n",
    "df"
   ]
  },
  {
   "cell_type": "code",
   "execution_count": 9,
   "id": "bf4588f0-5c80-422f-abe1-304b854353a7",
   "metadata": {},
   "outputs": [
    {
     "data": {
      "text/plain": [
       "'Hello, and thank you for your question and seeking advice on this. Feelings of worthlessness is unfortunately common. In fact, most people, if not all, have felt this to some degree at some point in their life. You are not alone.\\xa0Changing our feelings is like changing our thoughts - it\\'s hard to do. Our minds are so amazing that the minute you change your thought another one can be right there to take it\\'s place. Without your permission, another thought can just pop in there. The new thought may feel worse than the last one! My guess is that you have tried several things to improve this on your own even before reaching out on here. People often try thinking positive thoughts, debating with their thoughts, or simply telling themselves that they need to \"snap out of it\" - which is also a thought that carries some self-criticism.\\xa0Some people try a different approach, and there are counselors out there that can help you with this. The idea is that instead of trying to change the thoughts, you change how you respond to them. You learn skills that allow you to manage difficult thoughts and feelings differently so they don\\'t have the same impact on you that they do right now. For some people, they actually DO begin to experience less hurtful thoughts once they learn how to manage the ones they have differently. Acceptance and Commitment Therapy may be a good choice for you.\\xa0There is information online and even self-help books that you can use to teach you the skills that I mentioned. Because they are skills, they require practice, but many people have found great relief and an enriched life by learning them.\\xa0As for suicidal thoughts, I am very glad to read that this has not happened to you. Still, you should watch out for this because it can be a sign of a worsening depression. If you begin to think about this, it is important to reach out to a support system right away. The National Suicide Prevention Lifeline is 1-800-273-8255. The text line is #741741.\\xa0I hope some other colleagues will provide you more suggestions.\\xa0Be well...Robin Landwehr, DBH, LPCC'"
      ]
     },
     "execution_count": 9,
     "metadata": {},
     "output_type": "execute_result"
    }
   ],
   "source": [
    "#convert all review text into list format\n",
    "docs = df['Response'].tolist()\n",
    "docs[1]"
   ]
  },
  {
   "cell_type": "code",
   "execution_count": 11,
   "id": "1c003383-c4ea-4185-9c6d-7dd9e58d676d",
   "metadata": {},
   "outputs": [
    {
     "name": "stdout",
     "output_type": "stream",
     "text": [
      "['hello', 'and', 'thank', 'you', 'for', 'your', 'question', 'and', 'seeking', 'advice', 'on', 'this', 'feelings', 'of', 'worthlessness', 'is', 'unfortunately', 'common', 'in', 'fact', 'most', 'people', 'if', 'not', 'all', 'have', 'felt', 'this', 'to', 'some', 'degree', 'at', 'some', 'point', 'in', 'their', 'life', 'you', 'are', 'not', 'alone', 'changing', 'our', 'feelings', 'is', 'like', 'changing', 'our', 'thoughts', 'it', 's', 'hard', 'to', 'do', 'our', 'minds', 'are', 'so', 'amazing', 'that', 'the', 'minute', 'you', 'change', 'your', 'thought', 'another', 'one', 'can', 'be', 'right', 'there', 'to', 'take', 'it', 's', 'place', 'without', 'your', 'permission', 'another', 'thought', 'can', 'just', 'pop', 'in', 'there', 'the', 'new', 'thought', 'may', 'feel', 'worse', 'than', 'the', 'last', 'one', 'my', 'guess', 'is', 'that', 'you', 'have', 'tried', 'several', 'things', 'to', 'improve', 'this', 'on', 'your', 'own', 'even', 'before', 'reaching', 'out', 'on', 'here', 'people', 'often', 'try', 'thinking', 'positive', 'thoughts', 'debating', 'with', 'their', 'thoughts', 'or', 'simply', 'telling', 'themselves', 'that', 'they', 'need', 'to', 'snap', 'out', 'of', 'it', 'which', 'is', 'also', 'a', 'thought', 'that', 'carries', 'some', 'self', 'criticism']\n"
     ]
    }
   ],
   "source": [
    "import pandas as pd\n",
    "from nltk.tokenize import RegexpTokenizer\n",
    "\n",
    "# Assuming you've loaded your CSV file into a DataFrame `df`\n",
    "docs = df['Response'].astype(str)  # Replace 'text_column_name' with the name of your column\n",
    "\n",
    "tokenizer = RegexpTokenizer(r'\\w+')\n",
    "\n",
    "# Now 'docs' is a Series object where each document is a string\n",
    "# We'll apply the tokenizer to each document in the Series.\n",
    "docs = docs.str.lower().apply(tokenizer.tokenize)\n",
    "\n",
    "# Let's take a look at the first 150 tokens of the second document\n",
    "# Ensure that there are enough tokens for the second document\n",
    "if len(docs) > 1 and len(docs[1]) > 150:\n",
    "    print(docs[1][:150])\n",
    "else:\n",
    "    print(\"Document 1 does not have 150 tokens.\")"
   ]
  },
  {
   "cell_type": "code",
   "execution_count": 13,
   "id": "783214ce-d50b-4688-8e75-f1849f6dd49c",
   "metadata": {},
   "outputs": [
    {
     "name": "stdout",
     "output_type": "stream",
     "text": [
      "['hello', 'and', 'thank', 'you', 'for', 'your', 'question', 'and', 'seeking', 'advice', 'on', 'this', 'feelings', 'of', 'worthlessness', 'is', 'unfortunately', 'common', 'in', 'fact', 'most', 'people', 'if', 'not', 'all', 'have', 'felt', 'this', 'to', 'some', 'degree', 'at', 'some', 'point', 'in', 'their', 'life', 'you', 'are', 'not', 'alone', 'changing', 'our', 'feelings', 'is', 'like', 'changing', 'our', 'thoughts', 'it']\n"
     ]
    }
   ],
   "source": [
    "# Remove numbers, but not words that contain numbers.\n",
    "docs = [[token for token in doc if not token.isnumeric()] for doc in docs]\n",
    "    \n",
    "print(docs[1][:50])"
   ]
  },
  {
   "cell_type": "code",
   "execution_count": 15,
   "id": "c57dfe5f-f70c-4b26-8ff0-488b32554019",
   "metadata": {},
   "outputs": [
    {
     "name": "stdout",
     "output_type": "stream",
     "text": [
      "['hello', 'thank', 'question', 'seeking', 'advice', 'feelings', 'worthlessness', 'unfortunately', 'common', 'fact', 'people', 'felt', 'degree', 'point', 'life', 'alone', 'changing', 'feelings', 'like', 'changing', 'thoughts', 'hard', 'minds', 'amazing', 'minute', 'change', 'thought', 'another', 'one', 'right', 'take', 'place', 'without', 'permission', 'another', 'thought', 'pop', 'new', 'thought', 'may', 'feel', 'worse', 'last', 'one', 'guess', 'tried', 'several', 'things', 'improve', 'even']\n"
     ]
    }
   ],
   "source": [
    "# Remove stopwords.\n",
    "docs = [[token for token in doc if token not in stopwords.words('english')] for doc in docs]\n",
    "print(docs[1][:50])"
   ]
  },
  {
   "cell_type": "code",
   "execution_count": 16,
   "id": "636b4fde-4407-4961-921a-ff217ed3a831",
   "metadata": {},
   "outputs": [
    {
     "name": "stdout",
     "output_type": "stream",
     "text": [
      "['hello', 'thank', 'question', 'seeking', 'advice', 'feelings', 'worthlessness', 'unfortunately', 'common', 'fact', 'people', 'felt', 'degree', 'point', 'life', 'alone', 'changing', 'feelings', 'like', 'changing', 'thoughts', 'hard', 'minds', 'amazing', 'minute', 'change', 'thought', 'another', 'one', 'right', 'take', 'place', 'without', 'permission', 'another', 'thought', 'pop', 'new', 'thought', 'may', 'worse', 'last', 'one', 'guess', 'tried', 'several', 'things', 'improve', 'even', 'reaching']\n"
     ]
    }
   ],
   "source": [
    "# Remove stopwords including fashion-specific ones\n",
    "english_stopwords = set(stopwords.words('english'))\n",
    "therapy_specific_stopwords = {'u','yes','okay','sure','really','very','quite','is','are','have','be','feel','think','talk','therapy','session','patient','client'}\n",
    "all_stopwords = english_stopwords.union(therapy_specific_stopwords)\n",
    "docs = [[token for token in doc if token not in all_stopwords] for doc in docs]\n",
    "print(docs[1][:50])"
   ]
  },
  {
   "cell_type": "code",
   "execution_count": 19,
   "id": "08ca00f2-a394-4b95-aea9-8b6a566b0184",
   "metadata": {},
   "outputs": [
    {
     "name": "stdout",
     "output_type": "stream",
     "text": [
      "['hello', 'thank', 'question', 'seeking', 'advice', 'feelings', 'worthlessness', 'unfortunately', 'common', 'fact', 'people', 'felt', 'degree', 'point', 'life', 'alone', 'changing', 'feelings', 'like', 'changing', 'thoughts', 'hard', 'minds', 'amazing', 'minute', 'change', 'thought', 'another', 'one', 'right', 'take', 'place', 'without', 'permission', 'another', 'thought', 'pop', 'new', 'thought', 'may', 'worse', 'last', 'one', 'guess', 'tried', 'several', 'things', 'improve', 'even', 'reaching']\n"
     ]
    }
   ],
   "source": [
    "# Remove words that are only one character.\n",
    "docs = [[token for token in doc if len(token) > 1] for doc in docs]\n",
    "print(docs[1][:50])"
   ]
  },
  {
   "cell_type": "code",
   "execution_count": 21,
   "id": "5375fa6a-ef4a-4613-a5fe-b088e31db455",
   "metadata": {},
   "outputs": [
    {
     "name": "stdout",
     "output_type": "stream",
     "text": [
      "['hello', 'thank', 'question', 'seeking', 'advice', 'feeling', 'worthlessness', 'unfortunately', 'common', 'fact', 'people', 'felt', 'degree', 'point', 'life', 'alone', 'changing', 'feeling', 'like', 'changing', 'thought', 'hard', 'mind', 'amazing', 'minute', 'change', 'thought', 'another', 'one', 'right', 'take', 'place', 'without', 'permission', 'another', 'thought', 'pop', 'new', 'thought', 'may', 'worse', 'last', 'one', 'guess', 'tried', 'several', 'thing', 'improve', 'even', 'reaching']\n"
     ]
    }
   ],
   "source": [
    "# Lemmatize the documents.\n",
    "from nltk.stem.wordnet import WordNetLemmatizer\n",
    "\n",
    "lemmatizer = WordNetLemmatizer()\n",
    "docs = [[lemmatizer.lemmatize(token) for token in doc] for doc in docs]\n",
    "print(docs[1][:50])"
   ]
  },
  {
   "cell_type": "code",
   "execution_count": 23,
   "id": "4ff4b730-b93b-461f-8388-687f0a53d426",
   "metadata": {},
   "outputs": [
    {
     "name": "stdout",
     "output_type": "stream",
     "text": [
      "['everyone', 'think', 'worthless', 'maybe', 'need', 'find', 'new', 'people', 'hang', 'seriously', 'social', 'context', 'person', 'life', 'big', 'influence', 'self_esteem', 'otherwise', 'go', 'round', 'round', 'trying', 'understand', 'worthless', 'go', 'back', 'crowd', 'knocked', 'many', 'inspirational', 'message', 'find', 'social_medium', 'maybe', 'read', 'one', 'state', 'person', 'worthless', 'everyone', 'good', 'purpose', 'life', 'also', 'since', 'culture', 'saturated', 'belief', 'someone', 'good', 'somehow', 'terrible', 'bad', 'feeling', 'part', 'living', 'motivation', 'remove', 'situation', 'relationship', 'u', 'harm', 'good', 'bad', 'feeling', 'terrible', 'feeling', 'worthlessness', 'may', 'good', 'sense', 'motivating', 'find', 'much', 'better', 'feeling', 'today']\n"
     ]
    }
   ],
   "source": [
    "# use Phrases to Compute bigrams.\n",
    "from gensim.models import Phrases\n",
    "\n",
    "# Add bigrams to docs (only ones that appear 10 times or more).\n",
    "bigram = Phrases(docs,min_count = 5, threshold=40)\n",
    "\n",
    "\n",
    "print(bigram[docs[0]])\n"
   ]
  },
  {
   "cell_type": "code",
   "execution_count": 25,
   "id": "4864b444-875a-435e-ade1-0915653a7575",
   "metadata": {},
   "outputs": [
    {
     "name": "stdout",
     "output_type": "stream",
     "text": [
      "Requirement already satisfied: pyldavis in /opt/anaconda3/lib/python3.11/site-packages (3.4.1)\n",
      "Requirement already satisfied: numpy>=1.24.2 in /opt/anaconda3/lib/python3.11/site-packages (from pyldavis) (1.26.4)\n",
      "Requirement already satisfied: scipy in /opt/anaconda3/lib/python3.11/site-packages (from pyldavis) (1.12.0)\n",
      "Requirement already satisfied: pandas>=2.0.0 in /opt/anaconda3/lib/python3.11/site-packages (from pyldavis) (2.2.3)\n",
      "Requirement already satisfied: joblib>=1.2.0 in /opt/anaconda3/lib/python3.11/site-packages (from pyldavis) (1.2.0)\n",
      "Requirement already satisfied: jinja2 in /opt/anaconda3/lib/python3.11/site-packages (from pyldavis) (3.1.3)\n",
      "Requirement already satisfied: numexpr in /opt/anaconda3/lib/python3.11/site-packages (from pyldavis) (2.8.7)\n",
      "Requirement already satisfied: funcy in /opt/anaconda3/lib/python3.11/site-packages (from pyldavis) (2.0)\n",
      "Requirement already satisfied: scikit-learn>=1.0.0 in /opt/anaconda3/lib/python3.11/site-packages (from pyldavis) (1.3.0)\n",
      "Requirement already satisfied: gensim in /opt/anaconda3/lib/python3.11/site-packages (from pyldavis) (4.3.0)\n",
      "Requirement already satisfied: setuptools in /opt/anaconda3/lib/python3.11/site-packages (from pyldavis) (68.2.2)\n",
      "Requirement already satisfied: python-dateutil>=2.8.2 in /opt/anaconda3/lib/python3.11/site-packages (from pandas>=2.0.0->pyldavis) (2.8.2)\n",
      "Requirement already satisfied: pytz>=2020.1 in /opt/anaconda3/lib/python3.11/site-packages (from pandas>=2.0.0->pyldavis) (2023.3.post1)\n",
      "Requirement already satisfied: tzdata>=2022.7 in /opt/anaconda3/lib/python3.11/site-packages (from pandas>=2.0.0->pyldavis) (2023.3)\n",
      "Requirement already satisfied: threadpoolctl>=2.0.0 in /opt/anaconda3/lib/python3.11/site-packages (from scikit-learn>=1.0.0->pyldavis) (2.2.0)\n",
      "Requirement already satisfied: smart-open>=1.8.1 in /opt/anaconda3/lib/python3.11/site-packages (from gensim->pyldavis) (5.2.1)\n",
      "Requirement already satisfied: FuzzyTM>=0.4.0 in /opt/anaconda3/lib/python3.11/site-packages (from gensim->pyldavis) (2.0.6)\n",
      "Requirement already satisfied: MarkupSafe>=2.0 in /opt/anaconda3/lib/python3.11/site-packages (from jinja2->pyldavis) (2.1.3)\n",
      "Requirement already satisfied: pyfume in /opt/anaconda3/lib/python3.11/site-packages (from FuzzyTM>=0.4.0->gensim->pyldavis) (0.3.1)\n",
      "Requirement already satisfied: six>=1.5 in /opt/anaconda3/lib/python3.11/site-packages (from python-dateutil>=2.8.2->pandas>=2.0.0->pyldavis) (1.16.0)\n",
      "Requirement already satisfied: simpful in /opt/anaconda3/lib/python3.11/site-packages (from pyfume->FuzzyTM>=0.4.0->gensim->pyldavis) (2.12.0)\n",
      "Requirement already satisfied: fst-pso in /opt/anaconda3/lib/python3.11/site-packages (from pyfume->FuzzyTM>=0.4.0->gensim->pyldavis) (1.8.1)\n",
      "Requirement already satisfied: typing-extensions in /opt/anaconda3/lib/python3.11/site-packages (from pyfume->FuzzyTM>=0.4.0->gensim->pyldavis) (4.9.0)\n",
      "Requirement already satisfied: miniful in /opt/anaconda3/lib/python3.11/site-packages (from fst-pso->pyfume->FuzzyTM>=0.4.0->gensim->pyldavis) (0.0.6)\n",
      "Note: you may need to restart the kernel to use updated packages.\n"
     ]
    }
   ],
   "source": [
    "pip install pyldavis\n"
   ]
  },
  {
   "cell_type": "code",
   "execution_count": 26,
   "id": "08416e45-d559-41ee-8735-67c4160fcdaa",
   "metadata": {},
   "outputs": [
    {
     "name": "stdout",
     "output_type": "stream",
     "text": [
      "Requirement already satisfied: langdetect in /opt/anaconda3/lib/python3.11/site-packages (1.0.9)\n",
      "Requirement already satisfied: six in /opt/anaconda3/lib/python3.11/site-packages (from langdetect) (1.16.0)\n"
     ]
    }
   ],
   "source": [
    "!pip install langdetect\n",
    "\n"
   ]
  },
  {
   "cell_type": "code",
   "execution_count": 29,
   "id": "b82eb0ca-8b0f-43ae-871d-8c1e10ffbff0",
   "metadata": {},
   "outputs": [
    {
     "name": "stdout",
     "output_type": "stream",
     "text": [
      "[(0, '0.002*\"termination\" + 0.002*\"refer\" + 0.001*\"improving\" + 0.001*\"transgender\" + 0.001*\"polyamorous\" + 0.001*\"goodbye\" + 0.001*\"seasonal\" + 0.001*\"terminate\" + 0.001*\"essentially\" + 0.001*\"shared\"'), (1, '0.003*\"diagnosis\" + 0.003*\"consultation\" + 0.002*\"bother\" + 0.002*\"faith\" + 0.002*\"courage\" + 0.002*\"worthless\" + 0.001*\"expertise\" + 0.001*\"domestic\" + 0.001*\"gut\" + 0.001*\"increased\"'), (2, '0.011*\"que\" + 0.010*\"de\" + 0.008*\"la\" + 0.005*\"en\" + 0.004*\"el\" + 0.004*\"tu\" + 0.003*\"e\" + 0.003*\"para\" + 0.003*\"con\" + 0.003*\"te\"'), (3, '0.002*\"dog\" + 0.001*\"seizure\" + 0.001*\"depressive\" + 0.001*\"breakup\" + 0.001*\"id\" + 0.001*\"craving\" + 0.001*\"card\" + 0.001*\"deepest\" + 0.001*\"affordable\" + 0.001*\"psychopath\"'), (4, '0.002*\"certainly\" + 0.002*\"weekend\" + 0.001*\"brave\" + 0.001*\"apprehensive\" + 0.001*\"evaluation\" + 0.001*\"cheat\" + 0.001*\"wedding\" + 0.001*\"alliance\" + 0.001*\"extremely\" + 0.001*\"military\"'), (5, '0.002*\"helpfulness\" + 0.002*\"nugget\" + 0.002*\"four\" + 0.002*\"blog\" + 0.002*\"dream\" + 0.002*\"bf\" + 0.002*\"liking\" + 0.002*\"check\" + 0.002*\"add\" + 0.002*\"listi\"'), (6, '0.004*\"nan\" + 0.001*\"imposter\" + 0.001*\"syndrome\" + 0.001*\"dream\" + 0.001*\"approval\" + 0.001*\"anti\" + 0.001*\"depressant\" + 0.001*\"stream\" + 0.001*\"courage\" + 0.001*\"irrational\"'), (7, '0.001*\"obsession\" + 0.001*\"no\" + 0.001*\"coverage\" + 0.001*\"postpartum\" + 0.001*\"empty\" + 0.001*\"profound\" + 0.001*\"bully\" + 0.001*\"coraje\" + 0.001*\"dysphoria\" + 0.001*\"positivity\"'), (8, '0.003*\"dream\" + 0.002*\"animal\" + 0.002*\"bed\" + 0.001*\"excitement\" + 0.001*\"performance\" + 0.001*\"summer\" + 0.001*\"rely\" + 0.001*\"negatively\" + 0.001*\"baby\" + 0.001*\"pedophile\"'), (9, '0.004*\"relationship\" + 0.003*\"therapist\" + 0.003*\"feeling\" + 0.003*\"may\" + 0.003*\"would\" + 0.003*\"help\" + 0.003*\"time\" + 0.003*\"want\" + 0.003*\"thing\" + 0.003*\"people\"')]\n"
     ]
    },
    {
     "data": {
      "text/html": [
       "\n",
       "<link rel=\"stylesheet\" type=\"text/css\" href=\"https://cdn.jsdelivr.net/gh/bmabey/pyLDAvis@3.4.0/pyLDAvis/js/ldavis.v1.0.0.css\">\n",
       "\n",
       "\n",
       "<div id=\"ldavis_el99513138885941926245625335\" style=\"background-color:white;\"></div>\n",
       "<script type=\"text/javascript\">\n",
       "\n",
       "var ldavis_el99513138885941926245625335_data = {\"mdsDat\": {\"x\": [0.36027987330026895, -0.06354654603840622, -0.04614806945501648, -0.04375117727788339, -0.03974097189935214, -0.04049168556834564, -0.03049882235907454, -0.0334641064002032, -0.03290813341965276, -0.0297303608823342], \"y\": [-0.005699146867021671, -0.09747847671395207, 0.029490825114401008, 0.0156038452449528, 0.01417993610456714, 0.016035650062564705, 0.011979900141681375, 0.0075631393117545605, 0.005889219747109791, 0.002435107853942151], \"topics\": [1, 2, 3, 4, 5, 6, 7, 8, 9, 10], \"cluster\": [1, 1, 1, 1, 1, 1, 1, 1, 1, 1], \"Freq\": [71.31001785121067, 4.947762673558629, 3.723866788344347, 3.255428173879694, 3.2389639163270485, 3.039309120226905, 2.8724213349361536, 2.6125116052051998, 2.61102026503606, 2.388698271275293]}, \"tinfo\": {\"Term\": [\"que\", \"de\", \"la\", \"certainly\", \"check\", \"friend\", \"en\", \"esteem\", \"self\", \"add\", \"el\", \"tu\", \"hope\", \"offer\", \"blog\", \"e\", \"dream\", \"para\", \"te\", \"four\", \"con\", \"diagnosis\", \"cry\", \"si\", \"una\", \"un\", \"personality\", \"nan\", \"consultation\", \"post\", \"relationship\", \"may\", \"therapist\", \"feeling\", \"would\", \"help\", \"want\", \"thing\", \"like\", \"people\", \"time\", \"life\", \"need\", \"one\", \"know\", \"make\", \"someone\", \"work\", \"get\", \"person\", \"anxiety\", \"thought\", \"counselor\", \"also\", \"child\", \"question\", \"issue\", \"good\", \"partner\", \"something\", \"counseling\", \"way\", \"que\", \"la\", \"en\", \"el\", \"tu\", \"e\", \"para\", \"te\", \"de\", \"si\", \"una\", \"mi\", \"lo\", \"como\", \"los\", \"un\", \"con\", \"ansiedad\", \"por\", \"puede\", \"puedes\", \"al\", \"persona\", \"pero\", \"tambi\\u00e9n\", \"cuando\", \"c\\u00f3mo\", \"consejero\", \"m\\u00e1s\", \"hacer\", \"se\", \"provides\", \"consultation\", \"crush\", \"practiced\", \"component\", \"rapport\", \"rage\", \"faith\", \"worthless\", \"domestic\", \"triggering\", \"binge\", \"scheduling\", \"flag\", \"became\", \"explores\", \"kleenex\", \"stack\", \"laugh\", \"consensual\", \"introduce\", \"assured\", \"discontent\", \"chat\", \"jealous\", \"dark\", \"dsm\", \"supporting\", \"tolerating\", \"owe\", \"diagnosis\", \"bother\", \"expertise\", \"oh\", \"increased\", \"gut\", \"courage\", \"student\", \"invest\", \"bipolar\", \"objective\", \"test\", \"relaxed\", \"survivor\", \"otherwise\", \"amazing\", \"personality\", \"termination\", \"goodbye\", \"invested\", \"polyamorous\", \"collaborative\", \"maximum\", \"refer\", \"toxin\", \"polyamory\", \"attribute\", \"quirk\", \"digging\", \"loop\", \"arc\", \"simplistic\", \"riding\", \"sacred\", \"angle\", \"affective\", \"unaware\", \"exhausting\", \"exclusive\", \"liked\", \"expensive\", \"communicator\", \"transformative\", \"rewrite\", \"talent\", \"essentially\", \"irritable\", \"asexuality\", \"trans\", \"disrespected\", \"improving\", \"psychologytoday\", \"seasonal\", \"congrats\", \"exception\", \"transgender\", \"instance\", \"shared\", \"joke\", \"terminate\", \"dysphoria\", \"pleasure\", \"bipolar\", \"spoken\", \"suicide\", \"winter\", \"otherwise\", \"validating\", \"stranger\", \"employee\", \"seizure\", \"psychopath\", \"directory\", \"youngest\", \"der\", \"bessel\", \"kolk\", \"collective\", \"telephone\", \"deepest\", \"van\", \"id\", \"hmm\", \"quitting\", \"numbness\", \"codependency\", \"craving\", \"sun\", \"mbsr\", \"affordable\", \"supervision\", \"vet\", \"darkest\", \"cali\", \"psychotic\", \"brainspotting\", \"joint\", \"eligible\", \"subsided\", \"dog\", \"breakup\", \"police\", \"card\", \"depressive\", \"weigh\", \"sided\", \"pushing\", \"psychology\", \"ongoing\", \"military\", \"extremely\", \"similarity\", \"rape\", \"site\", \"excitement\", \"fb\", \"spirituality\", \"summer\", \"donut\", \"accomplishing\", \"rollercoaster\", \"disclosing\", \"sincere\", \"boob\", \"account\", \"empower\", \"yesterday\", \"prospective\", \"grace\", \"argumentdiscuss\", \"peculiarity\", \"unclear\", \"arrousing\", \"pedophile\", \"unfairness\", \"judgemental\", \"robot\", \"connectedness\", \"assistant\", \"3rd\", \"animal\", \"heterosexual\", \"dbt\", \"chi\", \"complexity\", \"wave\", \"dream\", \"performance\", \"rely\", \"bed\", \"cousin\", \"script\", \"driving\", \"negatively\", \"baby\", \"recovery\", \"empathetic\", \"evaluation\", \"nightmare\", \"referring\", \"sounding\", \"curiosity\", \"attached\", \"helpfulness\", \"nugget\", \"listi\", \"latest\", \"bridge\", \"mediated\", \"penalizing\", \"twenty\", \"kansa\", \"liking\", \"yelled\", \"grandma\", \"understandably\", \"laziness\", \"bf\", \"injustice\", \"frank\", \"inducing\", \"strive\", \"imperfection\", \"tremendously\", \"lowest\", \"reachable\", \"wall\", \"movement\", \"frightens\", \"feminine\", \"jaded\", \"detach\", \"stalk\", \"presentation\", \"desensitization\", \"ritual\", \"four\", \"overcoming\", \"yoga\", \"blog\", \"dream\", \"nightmare\", \"forgetting\", \"add\", \"workplace\", \"check\", \"esteem\", \"bed\", \"incredibly\", \"naturally\", \"friend\", \"self\", \"baby\", \"alliance\", \"weekend\", \"wedding\", \"pee\", \"apprehensive\", \"proceed\", \"bio\", \"goodtherapy\", \"acknowledgment\", \"insist\", \"wondered\", \"voicing\", \"happily\", \"connects\", \"overview\", \"prospect\", \"dial\", \"dios\", \"proficient\", \"seasoned\", \"envision\", \"lifecounselingorlando\", \"bias\", \"mh\", \"conduct\", \"elicit\", \"paint\", \"bead\", \"narrow\", \"corrective\", \"cheat\", \"brave\", \"oriented\", \"suicidepreventionlifeline\", \"investment\", \"inpatient\", \"hug\", \"evaluation\", \"certainly\", \"speed\", \"amigo\", \"extremely\", \"shut\", \"large\", \"military\", \"affirmation\", \"animal\", \"psychology\", \"site\", \"baby\", \"coverage\", \"postpartum\", \"responded\", \"intimidated\", \"breakdown\", \"no\", \"positivity\", \"underlining\", \"burnout\", \"profound\", \"plain\", \"thankfully\", \"rico\", \"puerto\", \"coraje\", \"tested\", \"obeyed\", \"holistic\", \"bored\", \"net\", \"discernment\", \"asap\", \"silent\", \"sends\", \"esposa\", \"saved\", \"consejer\\u00eda\", \"licenciada\", \"deepens\", \"cup\", \"hanging\", \"withdraw\", \"obsession\", \"dysphoria\", \"bully\", \"hypnosis\", \"worrying\", \"texas\", \"empty\", \"clinic\", \"reflecting\", \"bf\", \"establish\", \"cousin\", \"bos\", \"nan\", \"approval\", \"imposter\", \"stream\", \"midlife\", \"listhope\", \"vox\", \"onion\", \"peeling\", \"miguel\", \"ruiz\", \"syndrome\", \"autistic\", \"ed\", \"partialize\", \"bdsm\", \"doc\", \"enlist\", \"wellness\", \"serving\", \"wine\", \"indirectly\", \"imagery\", \"obsessed\", \"stretch\", \"shaking\", \"penalize\", \"temperament\", \"raped\", \"securing\", \"irrational\", \"depressant\", \"trait\", \"gesture\", \"anti\", \"crossdressing\", \"resolving\", \"throwing\", \"cancer\", \"dream\", \"article\", \"courage\", \"pressing\", \"sent\", \"survivor\", \"ended\", \"couch\"], \"Freq\": [12.0, 12.0, 8.0, 12.0, 9.0, 35.0, 5.0, 9.0, 32.0, 7.0, 4.0, 4.0, 23.0, 17.0, 5.0, 4.0, 5.0, 4.0, 3.0, 3.0, 4.0, 4.0, 24.0, 3.0, 3.0, 3.0, 4.0, 2.0, 2.0, 7.0, 67.08930699970631, 54.00492234623621, 56.36394818427052, 54.36298609373195, 52.091357702128924, 50.279196238135505, 49.386245407531, 47.825478142731825, 47.37239607043393, 47.76169783628668, 49.61903859712948, 46.50917803992114, 45.77012345462685, 44.54313928802638, 44.29450149608369, 42.54125207593433, 42.017432328131314, 40.984572028490284, 41.705927976851626, 40.57458393806467, 44.07930836489196, 39.33186891357329, 41.05591254959787, 39.02154371312611, 38.779814000980295, 39.358852889377005, 39.03717220100906, 40.71563085163416, 38.11500042035266, 38.23510318858848, 38.47365563900554, 45.98079334805915, 12.216808829174196, 8.575279368902242, 5.551355184867928, 4.453066559323326, 4.408495023554817, 3.850199116694604, 3.747581988080756, 3.3306404333779462, 10.888209294831354, 2.9342957528591382, 2.9114401806517143, 2.593447803649571, 2.182491693481808, 2.1001223484070652, 2.321080021836827, 2.769419741446174, 3.4249441011326995, 1.8068287264333462, 1.780486851459162, 1.768719182074963, 1.7603802036630765, 1.756523238711946, 1.6739063470683657, 1.6291603975111855, 1.535644617082329, 1.4156254382007905, 1.3429578930043145, 1.3125437322855957, 1.2952805816867112, 1.2753950421702303, 1.8968413677719511, 1.4312574384276473, 2.36420867748386, 1.0545903038429763, 1.0070411941955484, 0.9427966159204897, 1.101199633811775, 0.9009079637116649, 1.5473859982362175, 1.52089001253022, 1.2456818744093197, 0.8511907180965074, 0.7800607414944519, 0.8437523713448838, 0.7233894925467895, 0.6916229000684104, 0.7454148672228473, 0.6475629934825148, 0.6475629934825148, 0.6445927828327822, 0.6248003872393283, 0.8660051424100507, 0.6102721141067687, 0.6040371268709545, 1.1102990532725232, 0.7365527438634027, 0.5949284016807435, 0.5934604723565348, 0.9050025836724552, 0.5855289714419394, 0.917321191544629, 2.6178143566336542, 1.7817175317259424, 1.2600136877533785, 1.0045937873468103, 1.1174350628137248, 1.1178142217907765, 1.5302195013023696, 1.004883551922745, 0.96119156814056, 1.0417822541999038, 0.9679041669912006, 1.0076916052867309, 0.9315436130689378, 0.9547842764139994, 0.9197869128609271, 0.9324190446183025, 0.9120882036785868, 1.6771487694103766, 0.869276358683062, 0.7408725330694357, 0.8715343760331751, 0.5581045446489225, 0.5567215728481173, 1.1855288632068115, 0.5495942917987177, 0.5002200781839974, 0.6510826129106171, 0.49306376165029425, 0.4923489521641397, 0.547034885256095, 0.469367301429972, 0.46332004519835385, 0.5695461697989376, 0.45166759906543746, 0.5953310645631352, 0.6971392952658779, 0.5634709166100252, 0.43447080340518823, 0.5442512866953256, 0.7496365759575541, 0.5415218213549193, 0.41103241714669336, 0.40950296976560896, 0.4048792744320786, 0.4012024128273786, 0.8031485840812979, 0.39890449873132244, 0.6498110231315665, 0.4975920423148391, 0.6451876739737059, 0.9668698573341707, 0.5922656357351992, 0.8044845625349292, 0.7605608415690703, 0.7246976479864021, 0.9400238475981538, 0.7508435174302718, 0.7653311422987561, 0.6445906940311555, 0.8038366082250026, 0.6553928894471126, 0.5948237008471015, 0.6802691163500741, 0.6337744352286134, 0.7180454064998698, 0.6565545684510055, 0.6527655892012527, 0.630072432615895, 0.6230768714088499, 0.6053820587756512, 1.0548925099471456, 0.8152191089906159, 0.8060574929209969, 0.6795974156281834, 0.6199548205696727, 0.6199548205696727, 0.6199548205696727, 0.6144176307109244, 0.5796816482654044, 0.8477242944519194, 0.5938550770713477, 0.895031570256627, 0.5386076880829844, 0.5316027315391854, 0.5297408136162594, 0.6312092914535298, 0.8567352246304883, 0.6212364255996091, 0.500184551042805, 0.8163249712184762, 0.4959088173577043, 0.49491084622783577, 0.4842011263666804, 0.4785488985933934, 0.4673675749463631, 0.46590639538740675, 0.7037505126797006, 0.45085782597935653, 0.4476967804100205, 1.1386694739535714, 0.9874457634318179, 0.8067910318386285, 0.8508557194803862, 1.0264273423842287, 0.6244272208691496, 0.5678516003308478, 0.7021614223257986, 0.69659383697017, 0.6615704319507499, 0.7559977455772575, 0.7699921595446334, 0.6317698429682359, 0.6009495840875422, 0.6249204373171122, 0.9376816363143221, 0.5834841149084607, 0.7194715477603773, 0.8659097819667434, 0.5479235229002276, 0.5452891281640113, 0.5399883828843076, 0.5397222326209669, 0.5399141694608472, 0.5121688124925784, 0.7108788695407331, 0.49628241315972565, 0.4888068954185521, 0.48383827237851523, 0.47974582828676865, 0.47181040547609415, 0.43293178261199483, 0.4236147458280366, 0.41829303333724094, 0.739612836571876, 0.411832344772619, 0.578690178228273, 0.4054369009978111, 0.4026815105058714, 0.405048785396731, 0.3927247919869802, 1.236411471356521, 0.38743883283301767, 0.6807788422478102, 0.3821178475287339, 0.6333383253930688, 0.5307812320621417, 2.2729951595969076, 0.9277677410011292, 0.8469836218165631, 1.1467513136081893, 0.6453470430506776, 0.587793947368003, 0.6918732844637574, 0.8391750930522082, 0.8205040137706882, 0.7033964435276969, 0.5282906990575218, 0.7087664735222805, 0.7217503078930432, 0.5664534471999454, 0.5323687206167831, 0.53751025244964, 0.534384198832905, 1.5833935366704293, 1.5354610358578042, 1.0035679030172497, 0.9600733252154281, 0.6951017471978891, 0.6697816771336703, 0.5759582102004006, 0.5232887532797663, 0.5041173031007513, 1.1588289262890432, 0.599881774319344, 0.5761678999054382, 0.48835136340081825, 0.6010678651217822, 1.188763620739687, 0.42377770127344294, 0.41555600924244207, 0.410459732337982, 0.5452725349033651, 0.38381153838633963, 0.3921618238125638, 0.37846991078184844, 0.37836254598749924, 0.5664601676323096, 0.5661955355591822, 0.36669059541945875, 0.35451878002651815, 0.3449993561338056, 0.3428651181272164, 0.3392063916751176, 0.9510854563251795, 0.4481168267087789, 0.4705091825373316, 1.3134869962065117, 0.5773299748986142, 0.8142607092938545, 1.2121457791744656, 1.2047109580704711, 0.9846159550440361, 0.5994644948607942, 1.0968029253521876, 0.5371175449689959, 1.098466086960242, 0.9825379957383255, 0.630574703994376, 0.5352785983278037, 0.5557848540581865, 0.6410706053463628, 0.6095068066833117, 0.5483427785761953, 0.6311425384346763, 0.9207125317162794, 0.6649872020180554, 0.4895810663270799, 0.8184409574927424, 0.43826015409776453, 0.42233845638262935, 0.411126423611604, 0.40326504781710387, 0.4163323599972561, 0.377908601802158, 0.36631916520867935, 0.36239910351401217, 0.5171572427188236, 0.3462649511995239, 0.3401909651865378, 0.3323291032259065, 0.3296427922677245, 0.3289921283533605, 0.3289921283533605, 0.325653868613182, 0.4893875027545408, 0.3986681386892901, 0.3208057505001246, 0.3207943255960404, 0.3201122345139068, 0.3201122345139068, 0.44656539957008934, 0.3168545741730579, 0.3115550855332938, 0.7075538943528432, 0.8625986632181745, 0.41972722336557217, 0.40192972308534114, 0.4649894985411878, 0.47132820201263553, 0.47587642507502065, 0.7398045580964862, 1.4322445892135585, 0.3516907388549544, 0.3680942272061512, 0.5944108814593686, 0.46055871932565007, 0.44498640142811724, 0.5193382534358831, 0.4323327818995004, 0.4589016915196136, 0.42747698930679984, 0.4416270281873819, 0.41545601081953876, 0.5434613381890901, 0.5415347551617361, 0.46171786863356695, 0.440077639569996, 0.4232221985496266, 0.5439484762224879, 0.47982100218034335, 0.396222062865522, 0.38800221591269235, 0.5050918256109492, 0.3803979204104428, 0.3748314070135614, 0.44459709772823564, 0.44459709772823564, 0.48954984561038156, 0.35234562765733807, 0.3436668589165619, 0.4288210582451064, 0.32622234737461514, 0.382266474455762, 0.31961162465806736, 0.39448171399941134, 0.31620957146728806, 0.4045340898280912, 0.3041152487737639, 0.39479302977025615, 0.36336027116299036, 0.30042402245002153, 0.29486302735944603, 0.2941244072663447, 0.4558546508303364, 0.37160344076888663, 0.5927636220428473, 0.4817368262457172, 0.4942785829322994, 0.43606052081724217, 0.4621032824167589, 0.45844016821948075, 0.5326582297584991, 0.4542087031790193, 0.44332476370826124, 0.45227708773396486, 0.42834471388001777, 0.3974539987185774, 0.40470002078688816, 1.9166363822685382, 0.5869617788520549, 0.6594542718682574, 0.5293874460016986, 0.4433473955700811, 0.395090602278364, 0.3850721556445107, 0.37619405227708164, 0.37619405227708164, 0.3366242203100851, 0.3366242203100851, 0.6459968560241462, 0.3331216535065474, 0.33301585860849015, 0.32800930238983383, 0.31752843171777356, 0.3058467953029977, 0.3058467953029977, 0.34277899408529716, 0.3026111923358541, 0.29938546398254473, 0.2973248765593399, 0.29593912850087356, 0.3908063216722545, 0.3421671807927807, 0.3661946245939895, 0.27842683425307296, 0.40006242271716597, 0.34322827313917165, 0.33457179293754075, 0.5057445406189686, 0.531858322042159, 0.43849432450664955, 0.4133527321541717, 0.5387133996203574, 0.42766041257663656, 0.44265214020310656, 0.4601952330856957, 0.4024893868896752, 0.6338104395105367, 0.46834432959256234, 0.5088192286571344, 0.3655832875690213, 0.3575377316271501, 0.3811598399936054, 0.35809232931153356, 0.34904026128430393], \"Total\": [12.0, 12.0, 8.0, 12.0, 9.0, 35.0, 5.0, 9.0, 32.0, 7.0, 4.0, 4.0, 23.0, 17.0, 5.0, 4.0, 5.0, 4.0, 3.0, 3.0, 4.0, 4.0, 24.0, 3.0, 3.0, 3.0, 4.0, 2.0, 2.0, 7.0, 67.45860058602973, 54.37583242111863, 56.754263652237896, 54.74501101875999, 52.46835138672417, 50.650140561314835, 49.753918126754975, 48.19441266416794, 47.73979513237055, 48.13440725435178, 50.0066930609401, 46.87753557935606, 46.13790443396611, 44.91423751423032, 44.674595260265406, 42.90871880193697, 42.384987497562825, 41.35316322033863, 42.08118240898028, 40.94127755010559, 44.488319930773166, 39.697002074172175, 41.439015352007665, 39.3891078341939, 39.14607530433235, 39.73091910638404, 39.40699131370786, 41.10209626919504, 38.47936844411307, 38.60190463410671, 38.848156099993744, 46.61399628572297, 12.611198717858244, 8.969969979380146, 5.945521418724249, 4.847281870646716, 4.802465213580642, 4.244245033297536, 4.141561838245226, 3.725258521599381, 12.248027888107597, 3.3282475616309806, 3.305402118260452, 2.995103538067386, 2.5763754829414105, 2.49400416409502, 2.757081289972469, 3.3361707204940223, 4.148814446475342, 2.20074322592455, 2.174367038624659, 2.1626574246966666, 2.154242665307104, 2.150406956639757, 2.0678133036404693, 2.0230665637166507, 1.9295089958385223, 1.809553543777072, 1.736831273921349, 1.706531020076455, 1.6891670842086122, 1.6692880272598638, 2.6014124230098563, 2.213378392812748, 2.914584526103845, 1.4558633047833631, 1.408079654815467, 1.343843847354213, 1.5822593250245178, 1.3018856375273755, 2.239757859557354, 2.2242061454497932, 1.8673135901375086, 1.278726063520841, 1.1810303862992189, 1.2869200489872599, 1.1244023378528403, 1.115092686905439, 1.2030702558040507, 1.0484969694834323, 1.0484969694834323, 1.045650361575835, 1.0258368122863448, 1.425654195183002, 1.0142177502986676, 1.0052751591037992, 1.8573670802056719, 1.232416055753853, 0.995885654091441, 0.994425039429049, 1.516506247975417, 0.9865079961895693, 1.5522809648106937, 4.450732503842666, 3.124367986566184, 2.238267523725434, 1.8086801310406682, 2.0601015266374527, 2.1402128908791425, 3.292915536805097, 2.0361969928767194, 1.911328243672664, 2.1735408854988263, 1.9689634466208041, 2.1153917399688527, 2.329211280360357, 2.5111280128238307, 2.407222773340446, 2.65462662456772, 4.925800909576833, 2.4269221139272807, 1.3916305349612461, 1.2063244666293989, 1.4541907446179112, 0.9620358382437905, 0.9604945612776289, 2.0540609337267504, 0.9540574139243544, 0.9039876089532174, 1.1834457037821526, 0.896834269325128, 0.8961402086999288, 1.0073573672380058, 0.8731537673923612, 0.8670998612571584, 1.075068897932244, 0.857807300338791, 1.1313259169302428, 1.3364176776328491, 1.0854707857616985, 0.8384844539251318, 1.0629361289335373, 1.4717861253410285, 1.0654664407892442, 0.8148422170135315, 0.8133260431067902, 0.8086547954529332, 0.8050080321381196, 1.6129051123422424, 0.803043098496421, 1.3121352610635226, 1.004161270799879, 1.3294881237639053, 2.078206098577087, 1.2241504623032349, 1.7494688577629915, 1.645081969846183, 1.5574296155171774, 2.194479787775886, 1.6703866574385706, 1.8267884175947424, 1.4406679616494809, 2.1785171316759584, 1.5046281243624995, 1.3240403383447301, 2.1735408854988263, 1.7028343829080306, 2.8863533626878346, 2.2959893312532977, 2.407222773340446, 1.9628060917682675, 2.541435541936017, 1.8522474212959874, 1.458369044536221, 1.2186843867059205, 1.209726678885218, 1.0830624933219093, 1.023419041673861, 1.0234190440601696, 1.0234190440601696, 1.017887573542122, 0.9834026565475417, 1.4675831930161234, 1.0354882893764559, 1.5610088352665334, 0.9420650198979242, 0.9351367226086283, 0.9333353576380286, 1.1270373122794153, 1.5308721464270816, 1.117387089519925, 0.90364183102108, 1.4796751973303184, 0.8993806338178686, 0.8983709920331567, 0.8876714543740379, 0.8820061785716683, 0.8708841706660697, 0.8693712990977234, 1.314211300982796, 0.8543437980686269, 0.8511663160569286, 2.1692086170926324, 1.966539572943356, 1.6149589822945427, 1.7332145029005308, 2.165144131480662, 1.2413888025054625, 1.1060922852440855, 1.7807422779358009, 1.889984575713639, 1.8829135435127637, 2.8856788110961706, 3.2376539155568005, 1.7033687477473847, 1.6377311502480592, 2.694437353414082, 1.4588233669501751, 0.9889039522874017, 1.2315803999260777, 1.501342669694038, 0.9533432207552494, 0.950711926806468, 0.9454143659052013, 0.9451527122877947, 0.9455721080123248, 0.9175798368068618, 1.2838682570070923, 0.9020939787253437, 0.8942967329566482, 0.8922591313845003, 0.8851684862297063, 0.8772378323922039, 0.8383551662682412, 0.8294759657930812, 0.8237166317453849, 1.4604695439529896, 0.8172571724502452, 1.1563759165405134, 0.8108613436030694, 0.8085081786295514, 0.8135051754913659, 0.7993942258799747, 2.524088248590965, 0.7929052087144204, 1.4012282941766936, 0.7875501958086973, 1.3148739728713892, 1.103708826467512, 5.146235770673706, 1.990782856919495, 1.8338786221415546, 2.7985579602323303, 1.4119486886106853, 1.3287808273126684, 1.6999209215195736, 2.42729796515177, 2.9704433390939684, 2.1419768547209297, 1.1553206614147284, 2.9024839396341955, 3.699768753077008, 2.101429788704047, 1.343097797731296, 1.822249387602252, 1.9795217161463337, 1.9895987403410307, 2.13806196072439, 1.4097352041953226, 1.4896978413125423, 1.1013247186968373, 1.0759508806105325, 0.9821373811274015, 0.9295040250595482, 0.9109089859223924, 2.1010817866527334, 1.0896298159336555, 1.0506405707731794, 0.8947972535919186, 1.1091052810981337, 2.313678442255102, 0.8303077636270084, 0.8217282118406309, 0.8180589891357524, 1.0872771240915513, 0.7901083768335693, 0.8115988886034009, 0.7846611300308228, 0.7845449900296275, 1.1749024511437873, 1.1757464406071667, 0.772955428570124, 0.7607444664819553, 0.7511800599450403, 0.7492457208044468, 0.7453947525022839, 2.2913896750512004, 1.0111758521688785, 1.0731972579100681, 3.700889405468147, 1.376169998932564, 2.3486623813547993, 5.06718715798395, 5.146235770673706, 3.699768753077008, 1.755724076685294, 7.106494945741564, 1.539419436718603, 9.945067037730063, 9.748226592543967, 2.7985579602323303, 1.8365578099159436, 3.2589605876855705, 35.52417063977988, 32.83293431347734, 2.9704433390939684, 1.1019781288293444, 1.6183238343164985, 1.1872992083547091, 0.8982809150350153, 1.5148063962233167, 0.8472249353204442, 0.8311507792139412, 0.8198266796076208, 0.8119660665526187, 0.8386298203547597, 0.7866341412578439, 0.775035320250349, 0.7711538975372618, 1.1083178556086333, 0.7554029062918304, 0.7488943906243521, 0.7411318969760314, 0.7383637117923443, 0.737714152990749, 0.737714152990749, 0.734369246104878, 1.1114893639492753, 0.9062313688219736, 0.7295042218338208, 0.7295308635404322, 0.7288206658925043, 0.7288206658925043, 1.0268462236837617, 0.728657401311101, 0.7202950572528699, 1.7782699354803726, 2.3841893723808, 1.0374328521705307, 0.9868858836910797, 1.2552293491918292, 1.3109333480593732, 1.3332303930347333, 2.9024839396341955, 12.603708983534366, 0.8394936935698342, 0.9538948682692259, 3.2376539155568005, 1.741726796995689, 1.6860960528353834, 2.8856788110961706, 1.6519319934458765, 2.524088248590965, 1.889984575713639, 2.694437353414082, 2.9704433390939684, 0.952085309991559, 0.9500197788652263, 0.8711829437035792, 0.8487779871836865, 0.8317472327531924, 1.089874712384767, 0.9720940226607894, 0.804805177783741, 0.8017461664480559, 1.0463118006685974, 0.7917778204522762, 0.7833343439873982, 0.935391366079054, 0.935391371460693, 1.0408390061105555, 0.7608347242416429, 0.752170703298312, 0.9527141363589853, 0.7349420676622136, 0.8651159852110026, 0.7281117840279691, 0.9011468294076277, 0.7257973170514844, 0.9453560185126949, 0.7127121724283327, 0.933977736528411, 0.8608770758339941, 0.7118145245758292, 0.7033514722828205, 0.702617347169091, 1.1062119934785462, 0.9613155510121292, 1.854966741639253, 1.5046281243624995, 1.6818801112292432, 1.3850228809984593, 1.590815533738861, 1.5638955885905235, 2.263359455943974, 1.5932411726384879, 1.5748025976364295, 2.313678442255102, 2.4429105001864153, 1.4119486886106853, 1.945685609802154, 2.3272295846268922, 1.090183184168731, 1.2424004903739683, 1.0178336094598797, 0.8539619272886698, 0.8058572804595417, 0.7956825911405931, 0.7890187695021587, 0.7890187695021587, 0.7472364238546976, 0.7472364238546976, 1.4351094987202875, 0.7437323611931151, 0.7437781505189512, 0.7386092354553373, 0.7281489074240728, 0.7164427221348272, 0.7164427221348272, 0.8079342732620781, 0.7142942481351746, 0.7100328692102567, 0.7080463324856435, 0.7076958466398642, 0.9435945871907573, 0.8333759916110931, 0.8934157838921699, 0.6890380603062898, 0.9915062941515392, 0.8529988377543496, 0.8399371786576308, 1.3548806289154864, 1.4645283571843646, 1.2379188061814883, 1.1370484954937379, 1.736433713426945, 1.29975206982186, 1.441300101626665, 1.7744002835210926, 1.32150549715936, 5.146235770673706, 2.234863159716571, 3.292915536805097, 1.0848085697487775, 1.066750057789029, 2.5111280128238307, 1.9440727519002077, 1.2659605622562895], \"Category\": [\"Default\", \"Default\", \"Default\", \"Default\", \"Default\", \"Default\", \"Default\", \"Default\", \"Default\", \"Default\", \"Default\", \"Default\", \"Default\", \"Default\", \"Default\", \"Default\", \"Default\", \"Default\", \"Default\", \"Default\", \"Default\", \"Default\", \"Default\", \"Default\", \"Default\", \"Default\", \"Default\", \"Default\", \"Default\", \"Default\", \"Topic1\", \"Topic1\", \"Topic1\", \"Topic1\", \"Topic1\", \"Topic1\", \"Topic1\", \"Topic1\", \"Topic1\", \"Topic1\", \"Topic1\", \"Topic1\", \"Topic1\", \"Topic1\", \"Topic1\", \"Topic1\", \"Topic1\", \"Topic1\", \"Topic1\", \"Topic1\", \"Topic1\", \"Topic1\", \"Topic1\", \"Topic1\", \"Topic1\", \"Topic1\", \"Topic1\", \"Topic1\", \"Topic1\", \"Topic1\", \"Topic1\", \"Topic1\", \"Topic2\", \"Topic2\", \"Topic2\", \"Topic2\", \"Topic2\", \"Topic2\", \"Topic2\", \"Topic2\", \"Topic2\", \"Topic2\", \"Topic2\", \"Topic2\", \"Topic2\", \"Topic2\", \"Topic2\", \"Topic2\", \"Topic2\", \"Topic2\", \"Topic2\", \"Topic2\", \"Topic2\", \"Topic2\", \"Topic2\", \"Topic2\", \"Topic2\", \"Topic2\", \"Topic2\", \"Topic2\", \"Topic2\", \"Topic2\", \"Topic2\", \"Topic2\", \"Topic3\", \"Topic3\", \"Topic3\", \"Topic3\", \"Topic3\", \"Topic3\", \"Topic3\", \"Topic3\", \"Topic3\", \"Topic3\", \"Topic3\", \"Topic3\", \"Topic3\", \"Topic3\", \"Topic3\", \"Topic3\", \"Topic3\", \"Topic3\", \"Topic3\", \"Topic3\", \"Topic3\", \"Topic3\", \"Topic3\", \"Topic3\", \"Topic3\", \"Topic3\", \"Topic3\", \"Topic3\", \"Topic3\", \"Topic3\", \"Topic3\", \"Topic3\", \"Topic3\", \"Topic3\", \"Topic3\", \"Topic3\", \"Topic3\", \"Topic3\", \"Topic3\", \"Topic3\", \"Topic3\", \"Topic3\", \"Topic3\", \"Topic3\", \"Topic3\", \"Topic3\", \"Topic4\", \"Topic4\", \"Topic4\", \"Topic4\", \"Topic4\", \"Topic4\", \"Topic4\", \"Topic4\", \"Topic4\", \"Topic4\", \"Topic4\", \"Topic4\", \"Topic4\", \"Topic4\", \"Topic4\", \"Topic4\", \"Topic4\", \"Topic4\", \"Topic4\", \"Topic4\", \"Topic4\", \"Topic4\", \"Topic4\", \"Topic4\", \"Topic4\", \"Topic4\", \"Topic4\", \"Topic4\", \"Topic4\", \"Topic4\", \"Topic4\", \"Topic4\", \"Topic4\", \"Topic4\", \"Topic4\", \"Topic4\", \"Topic4\", \"Topic4\", \"Topic4\", \"Topic4\", \"Topic4\", \"Topic4\", \"Topic4\", \"Topic4\", \"Topic4\", \"Topic4\", \"Topic4\", \"Topic4\", \"Topic4\", \"Topic4\", \"Topic4\", \"Topic4\", \"Topic4\", \"Topic5\", \"Topic5\", \"Topic5\", \"Topic5\", \"Topic5\", \"Topic5\", \"Topic5\", \"Topic5\", \"Topic5\", \"Topic5\", \"Topic5\", \"Topic5\", \"Topic5\", \"Topic5\", \"Topic5\", \"Topic5\", \"Topic5\", \"Topic5\", \"Topic5\", \"Topic5\", \"Topic5\", \"Topic5\", \"Topic5\", \"Topic5\", \"Topic5\", \"Topic5\", \"Topic5\", \"Topic5\", \"Topic5\", \"Topic5\", \"Topic5\", \"Topic5\", \"Topic5\", \"Topic5\", \"Topic5\", \"Topic5\", \"Topic5\", \"Topic5\", \"Topic5\", \"Topic5\", \"Topic5\", \"Topic5\", \"Topic5\", \"Topic5\", \"Topic6\", \"Topic6\", \"Topic6\", \"Topic6\", \"Topic6\", \"Topic6\", \"Topic6\", \"Topic6\", \"Topic6\", \"Topic6\", \"Topic6\", \"Topic6\", \"Topic6\", \"Topic6\", \"Topic6\", \"Topic6\", \"Topic6\", \"Topic6\", \"Topic6\", \"Topic6\", \"Topic6\", \"Topic6\", \"Topic6\", \"Topic6\", \"Topic6\", \"Topic6\", \"Topic6\", \"Topic6\", \"Topic6\", \"Topic6\", \"Topic6\", \"Topic6\", \"Topic6\", \"Topic6\", \"Topic6\", \"Topic6\", \"Topic6\", \"Topic6\", \"Topic6\", \"Topic6\", \"Topic6\", \"Topic6\", \"Topic6\", \"Topic6\", \"Topic6\", \"Topic6\", \"Topic6\", \"Topic6\", \"Topic6\", \"Topic7\", \"Topic7\", \"Topic7\", \"Topic7\", \"Topic7\", \"Topic7\", \"Topic7\", \"Topic7\", \"Topic7\", \"Topic7\", \"Topic7\", \"Topic7\", \"Topic7\", \"Topic7\", \"Topic7\", \"Topic7\", \"Topic7\", \"Topic7\", \"Topic7\", \"Topic7\", \"Topic7\", \"Topic7\", \"Topic7\", \"Topic7\", \"Topic7\", \"Topic7\", \"Topic7\", \"Topic7\", \"Topic7\", \"Topic7\", \"Topic7\", \"Topic7\", \"Topic7\", \"Topic7\", \"Topic7\", \"Topic7\", \"Topic7\", \"Topic7\", \"Topic7\", \"Topic7\", \"Topic7\", \"Topic7\", \"Topic7\", \"Topic7\", \"Topic7\", \"Topic7\", \"Topic7\", \"Topic7\", \"Topic7\", \"Topic7\", \"Topic8\", \"Topic8\", \"Topic8\", \"Topic8\", \"Topic8\", \"Topic8\", \"Topic8\", \"Topic8\", \"Topic8\", \"Topic8\", \"Topic8\", \"Topic8\", \"Topic8\", \"Topic8\", \"Topic8\", \"Topic8\", \"Topic8\", \"Topic8\", \"Topic8\", \"Topic8\", \"Topic8\", \"Topic8\", \"Topic8\", \"Topic8\", \"Topic8\", \"Topic8\", \"Topic8\", \"Topic8\", \"Topic8\", \"Topic8\", \"Topic8\", \"Topic8\", \"Topic8\", \"Topic8\", \"Topic8\", \"Topic8\", \"Topic8\", \"Topic8\", \"Topic8\", \"Topic8\", \"Topic8\", \"Topic8\", \"Topic8\", \"Topic8\", \"Topic8\", \"Topic8\", \"Topic8\", \"Topic8\", \"Topic8\", \"Topic8\", \"Topic9\", \"Topic9\", \"Topic9\", \"Topic9\", \"Topic9\", \"Topic9\", \"Topic9\", \"Topic9\", \"Topic9\", \"Topic9\", \"Topic9\", \"Topic9\", \"Topic9\", \"Topic9\", \"Topic9\", \"Topic9\", \"Topic9\", \"Topic9\", \"Topic9\", \"Topic9\", \"Topic9\", \"Topic9\", \"Topic9\", \"Topic9\", \"Topic9\", \"Topic9\", \"Topic9\", \"Topic9\", \"Topic9\", \"Topic9\", \"Topic9\", \"Topic9\", \"Topic9\", \"Topic9\", \"Topic9\", \"Topic9\", \"Topic9\", \"Topic9\", \"Topic9\", \"Topic9\", \"Topic9\", \"Topic9\", \"Topic9\", \"Topic9\", \"Topic9\", \"Topic10\", \"Topic10\", \"Topic10\", \"Topic10\", \"Topic10\", \"Topic10\", \"Topic10\", \"Topic10\", \"Topic10\", \"Topic10\", \"Topic10\", \"Topic10\", \"Topic10\", \"Topic10\", \"Topic10\", \"Topic10\", \"Topic10\", \"Topic10\", \"Topic10\", \"Topic10\", \"Topic10\", \"Topic10\", \"Topic10\", \"Topic10\", \"Topic10\", \"Topic10\", \"Topic10\", \"Topic10\", \"Topic10\", \"Topic10\", \"Topic10\", \"Topic10\", \"Topic10\", \"Topic10\", \"Topic10\", \"Topic10\", \"Topic10\", \"Topic10\", \"Topic10\", \"Topic10\", \"Topic10\", \"Topic10\", \"Topic10\", \"Topic10\", \"Topic10\", \"Topic10\", \"Topic10\"], \"logprob\": [30.0, 29.0, 28.0, 27.0, 26.0, 25.0, 24.0, 23.0, 22.0, 21.0, 20.0, 19.0, 18.0, 17.0, 16.0, 15.0, 14.0, 13.0, 12.0, 11.0, 10.0, 9.0, 8.0, 7.0, 6.0, 5.0, 4.0, 3.0, 2.0, 1.0, -5.4919, -5.7089, -5.6661, -5.7023, -5.745, -5.7804, -5.7983, -5.8304, -5.8399, -5.8317, -5.7936, -5.8583, -5.8743, -5.9015, -5.9071, -5.9475, -5.9599, -5.9848, -5.9673, -5.9948, -5.912, -6.0259, -5.983, -6.0338, -6.0401, -6.0252, -6.0334, -5.9913, -6.0573, -6.0542, -6.048, -5.8697, -4.527, -4.881, -5.3158, -5.5363, -5.5463, -5.6817, -5.7087, -5.8267, -4.6422, -5.9534, -5.9612, -6.0769, -6.2494, -6.2879, -6.1878, -6.0112, -5.7988, -6.4383, -6.453, -6.4596, -6.4643, -6.4665, -6.5147, -6.5418, -6.6009, -6.6823, -6.735, -6.7579, -6.7711, -6.7866, -6.3897, -6.6713, -5.8852, -6.6925, -6.7387, -6.8046, -6.6493, -6.85, -6.3091, -6.3264, -6.526, -6.9068, -6.9941, -6.9156, -7.0695, -7.1144, -7.0395, -7.1802, -7.1802, -7.1848, -7.216, -6.8895, -7.2395, -7.2498, -6.6411, -7.0515, -7.265, -7.2675, -6.8455, -7.2809, -6.832, -5.7833, -6.1681, -6.5146, -6.7411, -6.6346, -6.6343, -6.3203, -6.7408, -6.7853, -6.7047, -6.7783, -6.738, -6.8166, -6.792, -6.8293, -6.8157, -6.8377, -6.0941, -6.7513, -6.9112, -6.7487, -7.1945, -7.1969, -6.4411, -7.2098, -7.304, -7.0404, -7.3184, -7.3198, -7.2145, -7.3676, -7.3806, -7.1742, -7.4061, -7.1299, -6.972, -7.1849, -7.4449, -7.2196, -6.8994, -7.2246, -7.5003, -7.5041, -7.5154, -7.5245, -6.8305, -7.5303, -7.0423, -7.3092, -7.0495, -6.6449, -7.135, -6.8288, -6.8849, -6.9332, -6.6731, -6.8978, -6.8787, -7.0504, -6.8296, -7.0338, -7.1307, -6.9965, -7.0673, -6.9425, -7.032, -7.0378, -7.0732, -7.0843, -7.1131, -6.5527, -6.8105, -6.8218, -6.9924, -7.0843, -7.0843, -7.0843, -7.0933, -7.1514, -6.7714, -7.1273, -6.7171, -7.2249, -7.238, -7.2415, -7.0663, -6.7608, -7.0822, -7.299, -6.8091, -7.3075, -7.3096, -7.3314, -7.3432, -7.3668, -7.3699, -6.9575, -7.4028, -7.4098, -6.4763, -6.6188, -6.8209, -6.7677, -6.5801, -7.0771, -7.1721, -6.9598, -6.9677, -7.0193, -6.8859, -6.8675, -7.0654, -7.1154, -7.0763, -6.6069, -7.0813, -6.8718, -6.6865, -7.1442, -7.149, -7.1588, -7.1593, -7.1589, -7.2117, -6.8838, -7.2432, -7.2583, -7.2686, -7.277, -7.2937, -7.3797, -7.4015, -7.4141, -6.8442, -7.4297, -7.0895, -7.4453, -7.4522, -7.4463, -7.4772, -6.3303, -7.4907, -6.9271, -7.5046, -6.9993, -7.176, -5.7215, -6.6175, -6.7086, -6.4056, -6.9805, -7.0739, -6.9109, -6.7179, -6.7404, -6.8944, -7.1807, -6.8868, -6.8686, -7.1109, -7.173, -7.1634, -7.1692, -6.0265, -6.0572, -6.4825, -6.5268, -6.8498, -6.8869, -7.0378, -7.1337, -7.171, -6.3387, -6.9971, -7.0374, -7.2028, -6.9951, -6.3132, -7.3446, -7.3642, -7.3766, -7.0925, -7.4437, -7.4222, -7.4577, -7.458, -7.0544, -7.0549, -7.4893, -7.5231, -7.5503, -7.5565, -7.5672, -6.5362, -7.2888, -7.24, -6.2134, -7.0354, -6.6915, -6.2937, -6.2998, -6.5016, -6.9978, -6.3937, -7.1076, -6.3922, -6.5037, -6.9472, -7.111, -7.0734, -6.9307, -6.9812, -7.0869, -6.8515, -6.4738, -6.7992, -7.1054, -6.5916, -7.2162, -7.2532, -7.2801, -7.2994, -7.2675, -7.3643, -7.3955, -7.4062, -7.0506, -7.4518, -7.4695, -7.4929, -7.501, -7.503, -7.503, -7.5132, -7.1058, -7.3109, -7.5282, -7.5282, -7.5303, -7.5303, -7.1974, -7.5405, -7.5574, -6.7372, -6.539, -7.2594, -7.3027, -7.157, -7.1434, -7.1338, -6.6926, -6.032, -7.4362, -7.3906, -6.9114, -7.1665, -7.2009, -7.0464, -7.2298, -7.1702, -7.2411, -7.2085, -7.2696, -7.0005, -7.004, -7.1635, -7.2115, -7.2505, -6.9996, -7.125, -7.3164, -7.3374, -7.0737, -7.3572, -7.3719, -7.2012, -7.2012, -7.1049, -7.4338, -7.4587, -7.2374, -7.5108, -7.3523, -7.5313, -7.3208, -7.542, -7.2957, -7.581, -7.3201, -7.403, -7.5932, -7.6119, -7.6144, -7.1762, -7.3806, -6.9136, -7.121, -7.0953, -7.2206, -7.1626, -7.1706, -7.0205, -7.1799, -7.2041, -7.1841, -7.2385, -7.3133, -7.2953, -5.6511, -6.8345, -6.718, -6.9377, -7.1151, -7.2303, -7.256, -7.2793, -7.2793, -7.3905, -7.3905, -6.7386, -7.4009, -7.4012, -7.4164, -7.4489, -7.4863, -7.4863, -7.3723, -7.497, -7.5077, -7.5146, -7.5193, -7.2412, -7.3741, -7.3063, -7.5803, -7.2178, -7.371, -7.3966, -6.9834, -6.933, -7.1261, -7.1851, -6.9202, -7.1511, -7.1166, -7.0778, -7.2118, -6.7577, -7.0602, -6.9773, -7.3079, -7.3302, -7.2662, -7.3286, -7.3542], \"loglift\": [30.0, 29.0, 28.0, 27.0, 26.0, 25.0, 24.0, 23.0, 22.0, 21.0, 20.0, 19.0, 18.0, 17.0, 16.0, 15.0, 14.0, 13.0, 12.0, 11.0, 10.0, 9.0, 8.0, 7.0, 6.0, 5.0, 4.0, 3.0, 2.0, 1.0, 0.3326, 0.3313, 0.3312, 0.3311, 0.3309, 0.3308, 0.3307, 0.3304, 0.3304, 0.3304, 0.3304, 0.3302, 0.3301, 0.3298, 0.3296, 0.3295, 0.3294, 0.3292, 0.3292, 0.3291, 0.3289, 0.3289, 0.3288, 0.3288, 0.3287, 0.3287, 0.3287, 0.3287, 0.3286, 0.3286, 0.3284, 0.3245, 2.9745, 2.9612, 2.9376, 2.9214, 2.9206, 2.9088, 2.9063, 2.8943, 2.8886, 2.8803, 2.8793, 2.8622, 2.8403, 2.8343, 2.8341, 2.82, 2.8145, 2.809, 2.8064, 2.8052, 2.8043, 2.8039, 2.7949, 2.7897, 2.7779, 2.7607, 2.749, 2.7437, 2.7407, 2.7371, 2.6904, 2.5703, 3.0811, 2.968, 2.9552, 2.936, 2.928, 2.9222, 2.9206, 2.9103, 2.8856, 2.8834, 2.8756, 2.8683, 2.8493, 2.8128, 2.8117, 2.8085, 2.8085, 2.8066, 2.7946, 2.7919, 2.7824, 2.781, 2.7759, 2.7757, 2.7752, 2.7742, 2.7742, 2.7688, 2.7644, 2.7597, 2.7288, 2.7158, 2.7024, 2.6787, 2.6409, 2.524, 2.5842, 2.603, 2.555, 2.5803, 2.5488, 2.374, 2.3234, 2.3283, 2.2441, 1.6039, 3.0553, 2.9543, 2.9373, 2.9129, 2.8803, 2.8795, 2.8752, 2.8733, 2.8331, 2.8273, 2.8266, 2.8259, 2.8143, 2.8041, 2.7981, 2.7895, 2.7834, 2.7828, 2.7741, 2.7692, 2.7674, 2.7555, 2.7502, 2.7481, 2.7405, 2.7387, 2.7331, 2.7285, 2.7276, 2.7252, 2.7221, 2.7227, 2.7018, 2.6596, 2.6988, 2.648, 2.6534, 2.6598, 2.5771, 2.6252, 2.5548, 2.6206, 2.4278, 2.5938, 2.6247, 2.2632, 2.4365, 2.0336, 2.1729, 2.1198, 2.2886, 2.019, 2.3066, 3.106, 3.0278, 3.0239, 2.9639, 2.9287, 2.9287, 2.9287, 2.9251, 2.9014, 2.8811, 2.8739, 2.8737, 2.8708, 2.8651, 2.8635, 2.8502, 2.8495, 2.8429, 2.8385, 2.8352, 2.8346, 2.8337, 2.8238, 2.8185, 2.8075, 2.8061, 2.8053, 2.7907, 2.7874, 2.7854, 2.741, 2.7359, 2.7184, 2.6835, 2.7428, 2.7632, 2.4993, 2.4318, 2.384, 2.0904, 1.9937, 2.4381, 2.4274, 1.9686, 3.0516, 2.966, 2.956, 2.9432, 2.9397, 2.9376, 2.9335, 2.9332, 2.9332, 2.9105, 2.9024, 2.896, 2.8895, 2.8815, 2.881, 2.8733, 2.8327, 2.8216, 2.8159, 2.8132, 2.8082, 2.8013, 2.8004, 2.7965, 2.7962, 2.7828, 2.7799, 2.7774, 2.7717, 2.7703, 2.763, 2.7615, 2.6764, 2.73, 2.721, 2.6014, 2.7106, 2.6779, 2.5946, 2.4314, 2.207, 2.38, 2.7111, 2.0837, 1.8592, 2.1826, 2.5681, 2.2727, 2.184, 3.3217, 3.2189, 3.2102, 3.1107, 3.0898, 3.076, 3.0163, 2.9755, 2.9584, 2.955, 2.9532, 2.9493, 2.9445, 2.9374, 2.8841, 2.8774, 2.8682, 2.8604, 2.8599, 2.828, 2.8227, 2.8209, 2.8208, 2.8205, 2.8193, 2.8043, 2.7865, 2.7719, 2.7683, 2.7627, 2.6707, 2.7362, 2.7254, 2.5141, 2.6814, 2.4907, 2.1196, 2.098, 2.2262, 2.4754, 1.6814, 2.4971, 1.3469, 1.2553, 2.0598, 2.3172, 1.7812, -0.4648, -0.4365, 1.8604, 3.0875, 3.0809, 3.0652, 3.0379, 3.0292, 2.9857, 2.9679, 2.9547, 2.945, 2.9446, 2.9117, 2.8955, 2.8897, 2.8826, 2.8648, 2.8558, 2.8428, 2.8384, 2.8373, 2.8373, 2.8317, 2.8246, 2.8237, 2.8233, 2.8233, 2.8221, 2.8221, 2.8122, 2.8121, 2.8068, 2.7233, 2.6282, 2.74, 2.7466, 2.6518, 2.6219, 2.6147, 2.2779, 1.4701, 2.7748, 2.6926, 1.9498, 2.3147, 2.3127, 1.9299, 2.3044, 1.9401, 2.1584, 1.8364, 1.6778, 3.0847, 3.0834, 3.0105, 2.9886, 2.9698, 2.9505, 2.9394, 2.9368, 2.9196, 2.9171, 2.9124, 2.9083, 2.9016, 2.9016, 2.8911, 2.8756, 2.8621, 2.8472, 2.8332, 2.8287, 2.8221, 2.8193, 2.8146, 2.7966, 2.7938, 2.7843, 2.7829, 2.7828, 2.7761, 2.7746, 2.7589, 2.695, 2.5046, 2.5065, 2.4209, 2.4897, 2.4092, 2.4183, 2.1987, 2.3905, 2.3778, 2.0131, 1.9044, 2.3778, 2.0752, 3.5403, 3.1153, 3.101, 3.0807, 3.0789, 3.0216, 3.0087, 2.9937, 2.9937, 2.937, 2.937, 2.9362, 2.9312, 2.9309, 2.9227, 2.9045, 2.8832, 2.8832, 2.877, 2.8756, 2.8708, 2.8667, 2.8626, 2.8529, 2.8442, 2.8425, 2.8283, 2.8268, 2.8241, 2.8139, 2.749, 2.7215, 2.6966, 2.7225, 2.564, 2.6228, 2.5539, 2.3849, 2.5456, 1.6402, 2.1717, 1.867, 2.6468, 2.6413, 1.8492, 2.0427, 2.446]}, \"token.table\": {\"Topic\": [6, 6, 1, 7, 4, 3, 5, 2, 8, 1, 3, 4, 6, 2, 10, 1, 8, 10, 4, 3, 6, 7, 4, 6, 7, 3, 6, 7, 5, 7, 3, 3, 4, 1, 7, 6, 3, 8, 5, 7, 5, 1, 8, 3, 8, 1, 7, 1, 5, 4, 5, 2, 6, 3, 2, 4, 8, 2, 3, 3, 1, 1, 3, 10, 6, 9, 5, 2, 3, 1, 3, 2, 6, 2, 3, 6, 1, 2, 5, 10, 5, 5, 3, 5, 5, 6, 3, 4, 5, 3, 6, 6, 7, 10, 6, 3, 4, 2, 2, 6, 4, 9, 2, 4, 1, 7, 2, 6, 8, 4, 6, 4, 4, 2, 3, 3, 3, 5, 8, 3, 6, 1, 3, 2, 7, 1, 7, 1, 7, 1, 1, 4, 7, 3, 2, 1, 7, 5, 1, 7, 5, 5, 10, 3, 4, 3, 7, 4, 3, 3, 4, 10, 1, 3, 5, 4, 6, 7, 3, 1, 5, 2, 3, 7, 3, 7, 1, 1, 4, 7, 7, 2, 4, 2, 1, 4, 1, 5, 7, 2, 5, 8, 7, 2, 10, 2, 3, 7, 1, 6, 3, 5, 6, 7, 9, 7, 5, 3, 1, 9, 1, 7, 3, 1, 5, 3, 4, 7, 3, 2, 1, 6, 7, 1, 6, 2, 1, 2, 1, 3, 4, 5, 4, 4, 2, 1, 9, 3, 1, 7, 9, 2, 5, 4, 5, 2, 2, 5, 2, 1, 5, 3, 5, 3, 6, 4, 6, 4, 1, 3, 4, 6, 4, 6, 3, 6, 2, 4, 5, 1, 7, 2, 4, 2, 2, 5, 5, 6, 5, 1, 1, 6, 6, 4, 3, 2, 3, 4, 10, 7, 3, 3, 4, 6, 5, 3, 3, 10, 2, 2, 5, 2, 4, 4, 3, 1, 1, 1, 1, 1, 1, 3, 4, 4, 3, 2, 7, 2, 2, 4, 4, 5, 7, 1, 6, 1, 8, 8, 5, 3, 4, 1, 7, 3, 1, 7, 6, 7, 5], \"Freq\": [1.0518433310909387, 0.778896116904677, 0.8442980746219189, 0.1407163457703198, 0.748269060441692, 0.6053517965434112, 0.6758239928629167, 0.9300565150352824, 0.9074590264893206, 0.9901214357067485, 0.3767008101046377, 0.8839185817588405, 0.39618266142565944, 0.9087838946589437, 0.5758929881788845, 0.9890236374056601, 0.6601503680557324, 0.9172770361180208, 0.7621165512993469, 0.9859815603754907, 0.5051725332656448, 0.5051725332656448, 0.8449901814710368, 0.33665008412684133, 0.33665008412684133, 0.896786439139118, 0.35732688556394315, 0.35732688556394315, 0.977116857267713, 0.4322121785537827, 0.8467182653390646, 0.46007876211194465, 0.46007876211194465, 0.7893925910546897, 0.19734814776367243, 1.0898234244989045, 0.6401294625343049, 0.4194297699605219, 0.5085074380187944, 0.9079974171316778, 0.5769626311841392, 0.8727589643945707, 0.07934172403587006, 0.5383965348891976, 0.5623443213247966, 0.9049712752920999, 0.10055236392134442, 0.9962684559512871, 0.8872820705265877, 1.039462315484539, 0.9824267689211732, 0.8019232801584854, 0.760529161449766, 0.7441340762684744, 0.7230981377218916, 0.6078724454645267, 0.9022682391513485, 0.5859840742626516, 0.9748139158422666, 0.6862041509132548, 0.9781674039351926, 0.9894057484648607, 0.6073645004391672, 0.3036822502195836, 0.7082410345831828, 1.0503260469472697, 0.6532224146437771, 0.7693775014623033, 0.6868776736898407, 0.9482868904725094, 0.041229864803152584, 0.5526224982062178, 0.5487723068003428, 0.5757611663349657, 1.0041313436855483, 0.71365958292154, 0.08164579711407782, 0.8981037682548562, 0.6813923767720701, 0.682813682025628, 0.4618630166279678, 0.9771168595460585, 0.6740463502153556, 0.22468211673845187, 0.8266330051689987, 1.0580300802178775, 0.9947525221766128, 0.7521691861142064, 0.46099761549919044, 0.5355286896007436, 1.0489401699503236, 0.38863357396044357, 0.19431678698022178, 0.19431678698022178, 0.58826265818653, 1.00560621499852, 0.6646160495130271, 0.9424526549760085, 0.8252047449979067, 0.8655605611479906, 0.5398846765840366, 0.44182111567556215, 1.0091629610658168, 0.6199992748164902, 0.8206620890530882, 0.10258276113163603, 0.34453248348586263, 0.34453248348586263, 0.34453248348586263, 0.6420835908324043, 0.6854839473065242, 0.9407903003572922, 0.9385560743323366, 0.44677411855378774, 0.44677411855378774, 0.8312066524591016, 0.3088656249499179, 0.3088656249499179, 0.3088656249499179, 0.892953669730737, 1.0112205514872628, 0.9863912527389083, 0.8893613667769501, 0.5695655788282761, 0.5695655788282761, 0.5404106367093692, 0.2702053183546846, 0.985244676220733, 0.028149847892020942, 0.9980708144511891, 0.9975160325515671, 0.7185815307134288, 0.9518002900498004, 0.4672432374656087, 0.5990577921064347, 0.9871640916666795, 1.0052278177745462, 1.0614978572374476, 0.9731155722472276, 0.0423093727064012, 0.7220097326327942, 0.6406113645277707, 0.8048934363338792, 0.48118422936237326, 0.48118422936237326, 0.4854129697346635, 0.5444968813945303, 0.5986637857449335, 0.7014323693493123, 0.5231963705399317, 0.828964368760677, 0.7380724018472753, 0.9896721038541634, 0.8114142909216748, 0.7609126471916487, 0.6941224672304493, 0.8647706906519315, 1.0978045177448694, 0.9537461996601425, 0.98489980141207, 0.977116857267713, 1.0033478395901978, 0.5930860215931196, 0.6712770685892385, 0.9563426138857369, 0.9016276606400182, 1.0026124329944057, 0.98450359641638, 0.6794465464663144, 0.4759452993941353, 0.7093530735588038, 0.7762843627578031, 0.9926963682628555, 0.7254047993702685, 1.0021273345047745, 1.0411303096498765, 0.993088245193049, 1.1066331434325467, 0.9294104573180559, 1.0016348222591909, 0.3465389135321454, 0.3465389135321454, 0.8505235189005467, 0.5920077471012927, 0.8593909312650154, 0.306846300559337, 0.306846300559337, 0.306846300559337, 0.9970110381982458, 0.41198073510413613, 0.2702871629931801, 0.2702871629931801, 0.2702871629931801, 0.2702871629931801, 0.9175366568620432, 0.9354265857301846, 1.071426247614446, 0.5078814447856972, 0.5390932233729915, 0.5390932233729915, 0.9641670819763253, 0.05671571070448972, 0.5528893599470381, 1.0019094721521768, 0.5310918302358163, 0.4154164753984625, 0.4154164753984625, 0.7266544109925788, 0.6442132723839422, 0.9658192141578149, 0.9875421956363629, 0.6847112999654504, 1.0181874951670142, 0.9972076678197875, 0.5023149544031054, 0.988598218105946, 1.0014343091717777, 0.9672053064359915, 0.8120506844324801, 0.20301267110812002, 0.7552639984142521, 0.619210773130098, 0.6876676967592378, 1.1062098529845572, 0.9198079093698226, 0.8333805872464551, 1.0526096637634996, 0.7101870952968588, 0.4364163856056719, 0.4364163856056719, 0.9557380499397943, 0.45179803112164924, 0.5291048471241677, 0.8168930460709082, 0.8205569964697587, 0.9247881690187336, 0.928400515043594, 0.5615635751396766, 0.9515352401042775, 0.981603267107239, 1.0693623465138136, 0.7681166234380341, 0.6106008302086303, 0.6320076514540399, 0.46685845264667264, 0.48684047468137526, 0.4758664816570915, 0.6350002225681287, 0.993201747708287, 0.4293298802182033, 0.4293298802182033, 0.545292359006959, 0.930172942332692, 1.0577372589875285, 0.7770490488410284, 0.7525695580831069, 0.7688131194845234, 0.5716020582833802, 0.685697494572104, 0.9746311339241027, 0.03045722293512821, 0.5474087696026994, 0.5474087696026994, 0.5741428573786105, 0.901375256632014, 0.9040836947699407, 0.5870719427736638, 1.0575608052801888, 0.3711349973429201, 0.9909168901468954, 0.9844073850808155, 0.744547419919203, 0.8119648543124122, 0.587256171262082, 0.9537461996601425, 0.39347840364199016, 0.39347840364199016, 0.39347840364199016, 0.9824788557833699, 0.9197287221834326, 0.49111161812846493, 0.34645792609009535, 0.34645792609009535, 0.6660704582544053, 0.8949450099961695, 0.6594104055522562, 0.3982274081182636, 0.6968109408318444, 1.0365331306117305, 0.8053132373513764, 1.0168774645278336, 0.4590278338691275, 0.4590278338691275, 0.8240890750150901, 0.472725680594141, 0.6394288770270526, 0.9867100090160688, 0.9959660746252338, 0.9824419468031904, 0.5635706944408369, 0.9998661566976256, 1.013676527572553, 1.0481549489633633, 0.45568886328796127, 0.7820283237573202, 0.8329055645605944, 1.0758425709194057, 0.8992345570240357, 0.9076051544308995, 0.9212592481687826, 0.5094746771949911, 0.96572796646708, 0.8511344912307257, 0.9848470601886214, 0.906036063153143, 0.9868280702225262, 0.8422476768815018, 0.6179232974235663, 0.8055493959521193, 0.43554209350534573, 0.43554209350534573, 0.9914598257343241, 0.6495955398169981, 0.8991972277801378, 0.9910736401212202, 0.9177428750360913, 0.4257742653599967, 0.4257742653599967, 0.9233077557074804], \"Term\": [\"accomplishing\", \"account\", \"add\", \"add\", \"affective\", \"affirmation\", \"affordable\", \"al\", \"alliance\", \"also\", \"amazing\", \"angle\", \"animal\", \"ansiedad\", \"anti\", \"anxiety\", \"apprehensive\", \"approval\", \"asexuality\", \"assured\", \"attached\", \"attached\", \"attribute\", \"baby\", \"baby\", \"became\", \"bed\", \"bed\", \"bessel\", \"bf\", \"binge\", \"bipolar\", \"bipolar\", \"blog\", \"blog\", \"boob\", \"bother\", \"brave\", \"breakup\", \"bridge\", \"card\", \"certainly\", \"certainly\", \"chat\", \"cheat\", \"check\", \"check\", \"child\", \"codependency\", \"collaborative\", \"collective\", \"como\", \"complexity\", \"component\", \"con\", \"congrats\", \"connects\", \"consejero\", \"consensual\", \"consultation\", \"counseling\", \"counselor\", \"courage\", \"courage\", \"cousin\", \"coverage\", \"craving\", \"crossdressing\", \"crush\", \"cry\", \"cry\", \"cuando\", \"curiosity\", \"c\\u00f3mo\", \"dark\", \"dbt\", \"de\", \"de\", \"deepest\", \"depressant\", \"depressive\", \"der\", \"diagnosis\", \"diagnosis\", \"directory\", \"disclosing\", \"discontent\", \"disrespected\", \"dog\", \"domestic\", \"donut\", \"dream\", \"dream\", \"dream\", \"driving\", \"dsm\", \"dysphoria\", \"e\", \"el\", \"empathetic\", \"employee\", \"empty\", \"en\", \"essentially\", \"esteem\", \"esteem\", \"evaluation\", \"evaluation\", \"evaluation\", \"exception\", \"excitement\", \"exclusive\", \"expensive\", \"expertise\", \"expertise\", \"explores\", \"extremely\", \"extremely\", \"extremely\", \"faith\", \"fb\", \"feeling\", \"flag\", \"forgetting\", \"forgetting\", \"four\", \"four\", \"friend\", \"friend\", \"get\", \"good\", \"goodbye\", \"grandma\", \"gut\", \"hacer\", \"help\", \"helpfulness\", \"hmm\", \"hope\", \"hope\", \"hypnosis\", \"id\", \"imposter\", \"improving\", \"improving\", \"increased\", \"incredibly\", \"instance\", \"introduce\", \"invest\", \"invested\", \"irrational\", \"issue\", \"jealous\", \"joint\", \"joke\", \"judgemental\", \"kansa\", \"kleenex\", \"know\", \"kolk\", \"la\", \"large\", \"latest\", \"laugh\", \"laziness\", \"life\", \"like\", \"liked\", \"liking\", \"listi\", \"lo\", \"loop\", \"los\", \"make\", \"maximum\", \"may\", \"mbsr\", \"mediated\", \"mi\", \"military\", \"military\", \"movement\", \"m\\u00e1s\", \"nan\", \"naturally\", \"naturally\", \"naturally\", \"need\", \"negatively\", \"nightmare\", \"nightmare\", \"nightmare\", \"nightmare\", \"no\", \"nugget\", \"numbness\", \"objective\", \"obsession\", \"obsession\", \"offer\", \"offer\", \"oh\", \"one\", \"ongoing\", \"otherwise\", \"otherwise\", \"overcoming\", \"owe\", \"para\", \"partner\", \"pedophile\", \"penalizing\", \"people\", \"performance\", \"pero\", \"person\", \"persona\", \"personality\", \"personality\", \"pleasure\", \"police\", \"polyamorous\", \"polyamory\", \"por\", \"post\", \"postpartum\", \"practiced\", \"presentation\", \"presentation\", \"profound\", \"provides\", \"psychology\", \"psychologytoday\", \"psychopath\", \"puede\", \"puedes\", \"pushing\", \"que\", \"question\", \"quitting\", \"rage\", \"rape\", \"rapport\", \"recovery\", \"refer\", \"referring\", \"reflecting\", \"relationship\", \"relaxed\", \"relaxed\", \"rely\", \"riding\", \"rollercoaster\", \"scheduling\", \"script\", \"se\", \"seasonal\", \"seizure\", \"self\", \"self\", \"shared\", \"shared\", \"shut\", \"si\", \"sided\", \"similarity\", \"sincere\", \"site\", \"someone\", \"something\", \"sounding\", \"spirituality\", \"spoken\", \"stack\", \"stranger\", \"stranger\", \"stranger\", \"stream\", \"strive\", \"student\", \"suicide\", \"suicide\", \"summer\", \"sun\", \"supporting\", \"survivor\", \"syndrome\", \"tambi\\u00e9n\", \"te\", \"telephone\", \"terminate\", \"terminate\", \"termination\", \"test\", \"texas\", \"therapist\", \"thing\", \"thought\", \"throwing\", \"time\", \"tolerating\", \"toxin\", \"transgender\", \"triggering\", \"tu\", \"twenty\", \"un\", \"una\", \"unaware\", \"validating\", \"van\", \"wall\", \"want\", \"wave\", \"way\", \"wedding\", \"weekend\", \"weigh\", \"winter\", \"winter\", \"work\", \"workplace\", \"worthless\", \"would\", \"yelled\", \"yoga\", \"yoga\", \"youngest\"]}, \"R\": 30, \"lambda.step\": 0.01, \"plot.opts\": {\"xlab\": \"PC1\", \"ylab\": \"PC2\"}, \"topic.order\": [10, 3, 2, 1, 4, 9, 6, 5, 8, 7]};\n",
       "\n",
       "function LDAvis_load_lib(url, callback){\n",
       "  var s = document.createElement('script');\n",
       "  s.src = url;\n",
       "  s.async = true;\n",
       "  s.onreadystatechange = s.onload = callback;\n",
       "  s.onerror = function(){console.warn(\"failed to load library \" + url);};\n",
       "  document.getElementsByTagName(\"head\")[0].appendChild(s);\n",
       "}\n",
       "\n",
       "if(typeof(LDAvis) !== \"undefined\"){\n",
       "   // already loaded: just create the visualization\n",
       "   !function(LDAvis){\n",
       "       new LDAvis(\"#\" + \"ldavis_el99513138885941926245625335\", ldavis_el99513138885941926245625335_data);\n",
       "   }(LDAvis);\n",
       "}else if(typeof define === \"function\" && define.amd){\n",
       "   // require.js is available: use it to load d3/LDAvis\n",
       "   require.config({paths: {d3: \"https://d3js.org/d3.v5\"}});\n",
       "   require([\"d3\"], function(d3){\n",
       "      window.d3 = d3;\n",
       "      LDAvis_load_lib(\"https://cdn.jsdelivr.net/gh/bmabey/pyLDAvis@3.4.0/pyLDAvis/js/ldavis.v3.0.0.js\", function(){\n",
       "        new LDAvis(\"#\" + \"ldavis_el99513138885941926245625335\", ldavis_el99513138885941926245625335_data);\n",
       "      });\n",
       "    });\n",
       "}else{\n",
       "    // require.js not available: dynamically load d3 & LDAvis\n",
       "    LDAvis_load_lib(\"https://d3js.org/d3.v5.js\", function(){\n",
       "         LDAvis_load_lib(\"https://cdn.jsdelivr.net/gh/bmabey/pyLDAvis@3.4.0/pyLDAvis/js/ldavis.v3.0.0.js\", function(){\n",
       "                 new LDAvis(\"#\" + \"ldavis_el99513138885941926245625335\", ldavis_el99513138885941926245625335_data);\n",
       "            })\n",
       "         });\n",
       "}\n",
       "</script>"
      ],
      "text/plain": [
       "<IPython.core.display.HTML object>"
      ]
     },
     "execution_count": 29,
     "metadata": {},
     "output_type": "execute_result"
    }
   ],
   "source": [
    "import gensim\n",
    "from gensim import corpora, models\n",
    "from gensim.models import LdaModel\n",
    "import pyLDAvis.gensim_models\n",
    "pyLDAvis.enable_notebook()\n",
    "\n",
    "# Let's assume 'docs' is your list of preprocessed documents (each document is a list of words)\n",
    "dictionary = corpora.Dictionary(docs)  # Creates a dictionary of all unique words\n",
    "\n",
    "# Convert document into the bag-of-words format\n",
    "corpus = [dictionary.doc2bow(doc) for doc in docs]\n",
    "\n",
    "# Apply TF-IDF\n",
    "tfidf = models.TfidfModel(corpus)  # Initialize a model\n",
    "corpus_tfidf = tfidf[corpus]  # Apply transformation to the entire corpus\n",
    "\n",
    "# Running LDA using Bag of Words\n",
    "lda_model_bow = LdaModel(corpus, num_topics=10, id2word=dictionary, passes=15, random_state=100)\n",
    "\n",
    "# Running LDA using TF-IDF\n",
    "lda_model_tfidf = LdaModel(corpus_tfidf, num_topics=10, id2word=dictionary, passes=15, random_state=100)\n",
    "\n",
    "# Save the model to disk if needed\n",
    "lda_model_tfidf.save('model_tfidf.lda')\n",
    "\n",
    "# View the topics\n",
    "print(lda_model_tfidf.print_topics())\n",
    "\n",
    "# Assuming 'lda_model_tfidf' and 'corpus_tfidf' are already defined along with 'dictionary'\n",
    "vis = pyLDAvis.gensim_models.prepare(lda_model_tfidf, corpus_tfidf, dictionary)\n",
    "pyLDAvis.display(vis)\n"
   ]
  },
  {
   "cell_type": "code",
   "execution_count": 31,
   "id": "2efaa952-d0bc-4cef-9500-f64d156a0b34",
   "metadata": {},
   "outputs": [],
   "source": [
    "import pyLDAvis\n",
    "pyLDAvis.save_html(vis, 'lda_topic_modeling.html')\n"
   ]
  },
  {
   "cell_type": "markdown",
   "id": "3e45f0e0-0e01-46b2-809d-fb5dc328e478",
   "metadata": {},
   "source": [
    "### Topic Modeling Visualization (Static Image)\n",
    "\n",
    "The topic modeling results below were originally created with pyLDAvis as an interactive chart.  \n",
    "Since GitHub does not support interactive visualizations in notebooks, a static version is shown here.\n",
    "\n",
    "![LDA Topic Modeling](lda_topic_modeling.png)\n",
    "\n"
   ]
  },
  {
   "cell_type": "code",
   "execution_count": 49,
   "id": "f73f99d6-5ff9-4a90-9577-426ad4d524e6",
   "metadata": {},
   "outputs": [
    {
     "name": "stdout",
     "output_type": "stream",
     "text": [
      "Topic: 0 \n",
      "Words: 0.002*\"termination\" + 0.002*\"refer\" + 0.001*\"improving\" + 0.001*\"transgender\" + 0.001*\"polyamorous\" + 0.001*\"goodbye\" + 0.001*\"seasonal\" + 0.001*\"terminate\" + 0.001*\"essentially\" + 0.001*\"shared\"\n",
      "Topic: 1 \n",
      "Words: 0.003*\"diagnosis\" + 0.003*\"consultation\" + 0.002*\"bother\" + 0.002*\"faith\" + 0.002*\"courage\" + 0.002*\"worthless\" + 0.001*\"expertise\" + 0.001*\"domestic\" + 0.001*\"gut\" + 0.001*\"increased\"\n",
      "Topic: 2 \n",
      "Words: 0.011*\"que\" + 0.010*\"de\" + 0.008*\"la\" + 0.005*\"en\" + 0.004*\"el\" + 0.004*\"tu\" + 0.003*\"e\" + 0.003*\"para\" + 0.003*\"con\" + 0.003*\"te\"\n",
      "Topic: 3 \n",
      "Words: 0.002*\"dog\" + 0.001*\"seizure\" + 0.001*\"depressive\" + 0.001*\"breakup\" + 0.001*\"id\" + 0.001*\"craving\" + 0.001*\"card\" + 0.001*\"deepest\" + 0.001*\"affordable\" + 0.001*\"psychopath\"\n",
      "Topic: 4 \n",
      "Words: 0.002*\"certainly\" + 0.002*\"weekend\" + 0.001*\"brave\" + 0.001*\"apprehensive\" + 0.001*\"evaluation\" + 0.001*\"cheat\" + 0.001*\"wedding\" + 0.001*\"alliance\" + 0.001*\"extremely\" + 0.001*\"military\"\n",
      "Topic: 5 \n",
      "Words: 0.002*\"helpfulness\" + 0.002*\"nugget\" + 0.002*\"four\" + 0.002*\"blog\" + 0.002*\"dream\" + 0.002*\"bf\" + 0.002*\"liking\" + 0.002*\"check\" + 0.002*\"add\" + 0.002*\"listi\"\n",
      "Topic: 6 \n",
      "Words: 0.004*\"nan\" + 0.001*\"imposter\" + 0.001*\"syndrome\" + 0.001*\"dream\" + 0.001*\"approval\" + 0.001*\"anti\" + 0.001*\"depressant\" + 0.001*\"stream\" + 0.001*\"courage\" + 0.001*\"irrational\"\n",
      "Topic: 7 \n",
      "Words: 0.001*\"obsession\" + 0.001*\"no\" + 0.001*\"coverage\" + 0.001*\"postpartum\" + 0.001*\"empty\" + 0.001*\"profound\" + 0.001*\"bully\" + 0.001*\"coraje\" + 0.001*\"dysphoria\" + 0.001*\"positivity\"\n",
      "Topic: 8 \n",
      "Words: 0.003*\"dream\" + 0.002*\"animal\" + 0.002*\"bed\" + 0.001*\"excitement\" + 0.001*\"performance\" + 0.001*\"summer\" + 0.001*\"rely\" + 0.001*\"negatively\" + 0.001*\"baby\" + 0.001*\"pedophile\"\n",
      "Topic: 9 \n",
      "Words: 0.004*\"relationship\" + 0.003*\"therapist\" + 0.003*\"feeling\" + 0.003*\"may\" + 0.003*\"would\" + 0.003*\"help\" + 0.003*\"time\" + 0.003*\"want\" + 0.003*\"thing\" + 0.003*\"people\"\n"
     ]
    }
   ],
   "source": [
    "import gensim\n",
    "from gensim import corpora, models\n",
    "from gensim.models import LdaModel\n",
    "\n",
    "# Let's assume 'docs' is your list of preprocessed documents (each document is a list of words)\n",
    "dictionary = corpora.Dictionary(docs)  # This creates a dictionary of all unique words\n",
    "\n",
    "# Convert document into the bag-of-words format\n",
    "corpus = [dictionary.doc2bow(doc) for doc in docs]\n",
    "\n",
    "# Apply TF-IDF\n",
    "tfidf = models.TfidfModel(corpus)  # Initialize a model\n",
    "corpus_tfidf = tfidf[corpus]  # Apply transformation to the entire corpus\n",
    "\n",
    "# Running LDA using TF-IDF\n",
    "lda_model_tfidf = LdaModel(corpus_tfidf, num_topics=10, id2word=dictionary, passes=15, random_state=100)\n",
    "\n",
    "# To view the top 10 words for each topic\n",
    "for i, topic in lda_model_tfidf.print_topics(-1, num_words=10):\n",
    "    print('Topic: {} \\nWords: {}'.format(i, topic))\n"
   ]
  },
  {
   "cell_type": "code",
   "execution_count": 51,
   "id": "47ed71e5-fb55-4974-a5db-a2e6d65aaa79",
   "metadata": {},
   "outputs": [
    {
     "data": {
      "text/html": [
       "<div>\n",
       "<style scoped>\n",
       "    .dataframe tbody tr th:only-of-type {\n",
       "        vertical-align: middle;\n",
       "    }\n",
       "\n",
       "    .dataframe tbody tr th {\n",
       "        vertical-align: top;\n",
       "    }\n",
       "\n",
       "    .dataframe thead th {\n",
       "        text-align: right;\n",
       "    }\n",
       "</style>\n",
       "<table border=\"1\" class=\"dataframe\">\n",
       "  <thead>\n",
       "    <tr style=\"text-align: right;\">\n",
       "      <th></th>\n",
       "      <th>Topic</th>\n",
       "      <th>Words</th>\n",
       "    </tr>\n",
       "  </thead>\n",
       "  <tbody>\n",
       "    <tr>\n",
       "      <th>0</th>\n",
       "      <td>Topic 1</td>\n",
       "      <td>termination, refer, improving, transgender, po...</td>\n",
       "    </tr>\n",
       "    <tr>\n",
       "      <th>1</th>\n",
       "      <td>Topic 2</td>\n",
       "      <td>diagnosis, consultation, bother, faith, courag...</td>\n",
       "    </tr>\n",
       "    <tr>\n",
       "      <th>2</th>\n",
       "      <td>Topic 3</td>\n",
       "      <td>que, de, la, en, el, tu, e, para, con, te</td>\n",
       "    </tr>\n",
       "    <tr>\n",
       "      <th>3</th>\n",
       "      <td>Topic 4</td>\n",
       "      <td>dog, seizure, depressive, breakup, id, craving...</td>\n",
       "    </tr>\n",
       "    <tr>\n",
       "      <th>4</th>\n",
       "      <td>Topic 5</td>\n",
       "      <td>certainly, weekend, brave, apprehensive, evalu...</td>\n",
       "    </tr>\n",
       "    <tr>\n",
       "      <th>5</th>\n",
       "      <td>Topic 6</td>\n",
       "      <td>helpfulness, nugget, four, blog, dream, bf, li...</td>\n",
       "    </tr>\n",
       "    <tr>\n",
       "      <th>6</th>\n",
       "      <td>Topic 7</td>\n",
       "      <td>nan, imposter, syndrome, dream, approval, anti...</td>\n",
       "    </tr>\n",
       "    <tr>\n",
       "      <th>7</th>\n",
       "      <td>Topic 8</td>\n",
       "      <td>obsession, no, coverage, postpartum, empty, pr...</td>\n",
       "    </tr>\n",
       "    <tr>\n",
       "      <th>8</th>\n",
       "      <td>Topic 9</td>\n",
       "      <td>dream, animal, bed, excitement, performance, s...</td>\n",
       "    </tr>\n",
       "    <tr>\n",
       "      <th>9</th>\n",
       "      <td>Topic 10</td>\n",
       "      <td>relationship, therapist, feeling, may, would, ...</td>\n",
       "    </tr>\n",
       "  </tbody>\n",
       "</table>\n",
       "</div>"
      ],
      "text/plain": [
       "      Topic                                              Words\n",
       "0   Topic 1  termination, refer, improving, transgender, po...\n",
       "1   Topic 2  diagnosis, consultation, bother, faith, courag...\n",
       "2   Topic 3          que, de, la, en, el, tu, e, para, con, te\n",
       "3   Topic 4  dog, seizure, depressive, breakup, id, craving...\n",
       "4   Topic 5  certainly, weekend, brave, apprehensive, evalu...\n",
       "5   Topic 6  helpfulness, nugget, four, blog, dream, bf, li...\n",
       "6   Topic 7  nan, imposter, syndrome, dream, approval, anti...\n",
       "7   Topic 8  obsession, no, coverage, postpartum, empty, pr...\n",
       "8   Topic 9  dream, animal, bed, excitement, performance, s...\n",
       "9  Topic 10  relationship, therapist, feeling, may, would, ..."
      ]
     },
     "execution_count": 51,
     "metadata": {},
     "output_type": "execute_result"
    }
   ],
   "source": [
    "import pandas as pd\n",
    "\n",
    "# Assume lda_model_tfidf is your trained LDA model\n",
    "top_words_per_topic = []\n",
    "\n",
    "for t in range(lda_model_tfidf.num_topics):\n",
    "    top_words = lda_model_tfidf.show_topic(t, 10)\n",
    "    topic_words = \", \".join([word for word, prob in top_words])\n",
    "    top_words_per_topic.append((f\"Topic {t+1}\", topic_words))\n",
    "\n",
    "# Create a DataFrame\n",
    "df_top_words = pd.DataFrame(top_words_per_topic, columns=['Topic', 'Words'])\n",
    "\n",
    "# Display the DataFrame\n",
    "df_top_words\n"
   ]
  },
  {
   "cell_type": "code",
   "execution_count": null,
   "id": "629f4e12-a6dd-44ae-a775-7b99cb3df69a",
   "metadata": {},
   "outputs": [],
   "source": []
  }
 ],
 "metadata": {
  "kernelspec": {
   "display_name": "Python 3 (ipykernel)",
   "language": "python",
   "name": "python3"
  },
  "language_info": {
   "codemirror_mode": {
    "name": "ipython",
    "version": 3
   },
   "file_extension": ".py",
   "mimetype": "text/x-python",
   "name": "python",
   "nbconvert_exporter": "python",
   "pygments_lexer": "ipython3",
   "version": "3.11.8"
  }
 },
 "nbformat": 4,
 "nbformat_minor": 5
}
